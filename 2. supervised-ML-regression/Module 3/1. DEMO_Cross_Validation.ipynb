{
  "cells": [
    {
      "cell_type": "markdown",
      "metadata": {},
      "source": [
        "# Machine Learning Foundation\n",
        "\n",
        "## Section 2, Part c: Cross Validation \n"
      ]
    },
    {
      "cell_type": "markdown",
      "metadata": {},
      "source": [
        "## Learning objectives\n",
        "\n",
        "By the end of this lesson, you will be able to:\n",
        "\n",
        "* Chain multiple data processing steps together using `Pipeline`\n",
        "* Use the `KFolds` object to split data into multiple folds.\n",
        "* Perform cross validation using SciKit Learn with `cross_val_predict` and `GridSearchCV`\n"
      ]
    },
    {
      "cell_type": "code",
      "execution_count": 1,
      "metadata": {},
      "outputs": [],
      "source": [
        "# Surpress warnings:\n",
        "def warn(*args, **kwargs):\n",
        "    pass\n",
        "import warnings\n",
        "warnings.warn = warn\n",
        "\n",
        "import numpy as np\n",
        "import pickle\n",
        "import pandas as pd\n",
        "import matplotlib.pyplot as plt\n",
        "\n",
        "\n",
        "from sklearn.preprocessing import StandardScaler, PolynomialFeatures\n",
        "from sklearn.model_selection import KFold, cross_val_predict\n",
        "from sklearn.linear_model import LinearRegression, Lasso, Ridge\n",
        "from sklearn.metrics import r2_score\n",
        "from sklearn.pipeline import Pipeline"
      ]
    },
    {
      "cell_type": "code",
      "execution_count": 2,
      "metadata": {},
      "outputs": [
        {
          "data": {
            "text/plain": [
              "{'dataframe':         CRIM    ZN  INDUS  CHAS    NOX     RM   AGE     DIS  RAD    TAX  \\\n",
              " 0    0.00632  18.0   2.31   0.0  0.538  6.575  65.2  4.0900  1.0  296.0   \n",
              " 1    0.02731   0.0   7.07   0.0  0.469  6.421  78.9  4.9671  2.0  242.0   \n",
              " 2    0.02729   0.0   7.07   0.0  0.469  7.185  61.1  4.9671  2.0  242.0   \n",
              " 3    0.03237   0.0   2.18   0.0  0.458  6.998  45.8  6.0622  3.0  222.0   \n",
              " 4    0.06905   0.0   2.18   0.0  0.458  7.147  54.2  6.0622  3.0  222.0   \n",
              " ..       ...   ...    ...   ...    ...    ...   ...     ...  ...    ...   \n",
              " 501  0.06263   0.0  11.93   0.0  0.573  6.593  69.1  2.4786  1.0  273.0   \n",
              " 502  0.04527   0.0  11.93   0.0  0.573  6.120  76.7  2.2875  1.0  273.0   \n",
              " 503  0.06076   0.0  11.93   0.0  0.573  6.976  91.0  2.1675  1.0  273.0   \n",
              " 504  0.10959   0.0  11.93   0.0  0.573  6.794  89.3  2.3889  1.0  273.0   \n",
              " 505  0.04741   0.0  11.93   0.0  0.573  6.030  80.8  2.5050  1.0  273.0   \n",
              " \n",
              "      PTRATIO       B  LSTAT  MEDV  \n",
              " 0       15.3  396.90   4.98  24.0  \n",
              " 1       17.8  396.90   9.14  21.6  \n",
              " 2       17.8  392.83   4.03  34.7  \n",
              " 3       18.7  394.63   2.94  33.4  \n",
              " 4       18.7  396.90   5.33  36.2  \n",
              " ..       ...     ...    ...   ...  \n",
              " 501     21.0  391.99   9.67  22.4  \n",
              " 502     21.0  396.90   9.08  20.6  \n",
              " 503     21.0  396.90   5.64  23.9  \n",
              " 504     21.0  393.45   6.48  22.0  \n",
              " 505     21.0  396.90   7.88  11.9  \n",
              " \n",
              " [506 rows x 14 columns],\n",
              " 'description': \"Boston House Prices dataset\\n===========================\\n\\nNotes\\n------\\nData Set Characteristics:  \\n\\n    :Number of Instances: 506 \\n\\n    :Number of Attributes: 13 numeric/categorical predictive\\n    \\n    :Median Value (attribute 14) is usually the target\\n\\n    :Attribute Information (in order):\\n        - CRIM     per capita crime rate by town\\n        - ZN       proportion of residential land zoned for lots over 25,000 sq.ft.\\n        - INDUS    proportion of non-retail business acres per town\\n        - CHAS     Charles River dummy variable (= 1 if tract bounds river; 0 otherwise)\\n        - NOX      nitric oxides concentration (parts per 10 million)\\n        - RM       average number of rooms per dwelling\\n        - AGE      proportion of owner-occupied units built prior to 1940\\n        - DIS      weighted distances to five Boston employment centres\\n        - RAD      index of accessibility to radial highways\\n        - TAX      full-value property-tax rate per $10,000\\n        - PTRATIO  pupil-teacher ratio by town\\n        - B        1000(Bk - 0.63)^2 where Bk is the proportion of blacks by town\\n        - LSTAT    % lower status of the population\\n        - MEDV     Median value of owner-occupied homes in $1000's\\n\\n    :Missing Attribute Values: None\\n\\n    :Creator: Harrison, D. and Rubinfeld, D.L.\\n\\nThis is a copy of UCI ML housing dataset.\\nhttp://archive.ics.uci.edu/ml/datasets/Housing\\n\\n\\nThis dataset was taken from the StatLib library which is maintained at Carnegie Mellon University.\\n\\nThe Boston house-price data of Harrison, D. and Rubinfeld, D.L. 'Hedonic\\nprices and the demand for clean air', J. Environ. Economics & Management,\\nvol.5, 81-102, 1978.   Used in Belsley, Kuh & Welsch, 'Regression diagnostics\\n...', Wiley, 1980.   N.B. Various transformations are used in the table on\\npages 244-261 of the latter.\\n\\nThe Boston house-price data has been used in many machine learning papers that address regression\\nproblems.   \\n     \\n**References**\\n\\n   - Belsley, Kuh & Welsch, 'Regression diagnostics: Identifying Influential Data and Sources of Collinearity', Wiley, 1980. 244-261.\\n   - Quinlan,R. (1993). Combining Instance-Based and Model-Based Learning. In Proceedings on the Tenth International Conference of Machine Learning, 236-243, University of Massachusetts, Amherst. Morgan Kaufmann.\\n   - many more! (see http://archive.ics.uci.edu/ml/datasets/Housing)\\n\"}"
            ]
          },
          "execution_count": 2,
          "metadata": {},
          "output_type": "execute_result"
        }
      ],
      "source": [
        "path = \"https://cf-courses-data.s3.us.cloud-object-storage.appdomain.cloud/IBM-ML240EN-SkillsNetwork/labs/data/boston_housing_clean.pickle\"\n",
        " \n",
        " \n",
        "# Import pandas library\n",
        "import pandas as pd\n",
        " \n",
        "# Read the online file by the URL provides above, and assign it to variable \"df\"\n",
        " \n",
        "df = pd.read_pickle(path)\n",
        "df"
      ]
    },
    {
      "cell_type": "code",
      "execution_count": 3,
      "metadata": {},
      "outputs": [
        {
          "data": {
            "text/plain": [
              "dict_keys(['dataframe', 'description'])"
            ]
          },
          "execution_count": 3,
          "metadata": {},
          "output_type": "execute_result"
        }
      ],
      "source": [
        "df.keys()"
      ]
    },
    {
      "cell_type": "code",
      "execution_count": 4,
      "metadata": {},
      "outputs": [],
      "source": [
        "boston_data = df['dataframe']\n",
        "boston_description = df['description']"
      ]
    },
    {
      "cell_type": "code",
      "execution_count": 5,
      "metadata": {},
      "outputs": [
        {
          "data": {
            "text/html": [
              "<div>\n",
              "<style scoped>\n",
              "    .dataframe tbody tr th:only-of-type {\n",
              "        vertical-align: middle;\n",
              "    }\n",
              "\n",
              "    .dataframe tbody tr th {\n",
              "        vertical-align: top;\n",
              "    }\n",
              "\n",
              "    .dataframe thead th {\n",
              "        text-align: right;\n",
              "    }\n",
              "</style>\n",
              "<table border=\"1\" class=\"dataframe\">\n",
              "  <thead>\n",
              "    <tr style=\"text-align: right;\">\n",
              "      <th></th>\n",
              "      <th>CRIM</th>\n",
              "      <th>ZN</th>\n",
              "      <th>INDUS</th>\n",
              "      <th>CHAS</th>\n",
              "      <th>NOX</th>\n",
              "      <th>RM</th>\n",
              "      <th>AGE</th>\n",
              "      <th>DIS</th>\n",
              "      <th>RAD</th>\n",
              "      <th>TAX</th>\n",
              "      <th>PTRATIO</th>\n",
              "      <th>B</th>\n",
              "      <th>LSTAT</th>\n",
              "      <th>MEDV</th>\n",
              "    </tr>\n",
              "  </thead>\n",
              "  <tbody>\n",
              "    <tr>\n",
              "      <th>0</th>\n",
              "      <td>0.00632</td>\n",
              "      <td>18.0</td>\n",
              "      <td>2.31</td>\n",
              "      <td>0.0</td>\n",
              "      <td>0.538</td>\n",
              "      <td>6.575</td>\n",
              "      <td>65.2</td>\n",
              "      <td>4.0900</td>\n",
              "      <td>1.0</td>\n",
              "      <td>296.0</td>\n",
              "      <td>15.3</td>\n",
              "      <td>396.90</td>\n",
              "      <td>4.98</td>\n",
              "      <td>24.0</td>\n",
              "    </tr>\n",
              "    <tr>\n",
              "      <th>1</th>\n",
              "      <td>0.02731</td>\n",
              "      <td>0.0</td>\n",
              "      <td>7.07</td>\n",
              "      <td>0.0</td>\n",
              "      <td>0.469</td>\n",
              "      <td>6.421</td>\n",
              "      <td>78.9</td>\n",
              "      <td>4.9671</td>\n",
              "      <td>2.0</td>\n",
              "      <td>242.0</td>\n",
              "      <td>17.8</td>\n",
              "      <td>396.90</td>\n",
              "      <td>9.14</td>\n",
              "      <td>21.6</td>\n",
              "    </tr>\n",
              "    <tr>\n",
              "      <th>2</th>\n",
              "      <td>0.02729</td>\n",
              "      <td>0.0</td>\n",
              "      <td>7.07</td>\n",
              "      <td>0.0</td>\n",
              "      <td>0.469</td>\n",
              "      <td>7.185</td>\n",
              "      <td>61.1</td>\n",
              "      <td>4.9671</td>\n",
              "      <td>2.0</td>\n",
              "      <td>242.0</td>\n",
              "      <td>17.8</td>\n",
              "      <td>392.83</td>\n",
              "      <td>4.03</td>\n",
              "      <td>34.7</td>\n",
              "    </tr>\n",
              "    <tr>\n",
              "      <th>3</th>\n",
              "      <td>0.03237</td>\n",
              "      <td>0.0</td>\n",
              "      <td>2.18</td>\n",
              "      <td>0.0</td>\n",
              "      <td>0.458</td>\n",
              "      <td>6.998</td>\n",
              "      <td>45.8</td>\n",
              "      <td>6.0622</td>\n",
              "      <td>3.0</td>\n",
              "      <td>222.0</td>\n",
              "      <td>18.7</td>\n",
              "      <td>394.63</td>\n",
              "      <td>2.94</td>\n",
              "      <td>33.4</td>\n",
              "    </tr>\n",
              "    <tr>\n",
              "      <th>4</th>\n",
              "      <td>0.06905</td>\n",
              "      <td>0.0</td>\n",
              "      <td>2.18</td>\n",
              "      <td>0.0</td>\n",
              "      <td>0.458</td>\n",
              "      <td>7.147</td>\n",
              "      <td>54.2</td>\n",
              "      <td>6.0622</td>\n",
              "      <td>3.0</td>\n",
              "      <td>222.0</td>\n",
              "      <td>18.7</td>\n",
              "      <td>396.90</td>\n",
              "      <td>5.33</td>\n",
              "      <td>36.2</td>\n",
              "    </tr>\n",
              "  </tbody>\n",
              "</table>\n",
              "</div>"
            ],
            "text/plain": [
              "      CRIM    ZN  INDUS  CHAS    NOX     RM   AGE     DIS  RAD    TAX  \\\n",
              "0  0.00632  18.0   2.31   0.0  0.538  6.575  65.2  4.0900  1.0  296.0   \n",
              "1  0.02731   0.0   7.07   0.0  0.469  6.421  78.9  4.9671  2.0  242.0   \n",
              "2  0.02729   0.0   7.07   0.0  0.469  7.185  61.1  4.9671  2.0  242.0   \n",
              "3  0.03237   0.0   2.18   0.0  0.458  6.998  45.8  6.0622  3.0  222.0   \n",
              "4  0.06905   0.0   2.18   0.0  0.458  7.147  54.2  6.0622  3.0  222.0   \n",
              "\n",
              "   PTRATIO       B  LSTAT  MEDV  \n",
              "0     15.3  396.90   4.98  24.0  \n",
              "1     17.8  396.90   9.14  21.6  \n",
              "2     17.8  392.83   4.03  34.7  \n",
              "3     18.7  394.63   2.94  33.4  \n",
              "4     18.7  396.90   5.33  36.2  "
            ]
          },
          "execution_count": 5,
          "metadata": {},
          "output_type": "execute_result"
        }
      ],
      "source": [
        "boston_data.head()"
      ]
    },
    {
      "cell_type": "markdown",
      "metadata": {},
      "source": [
        "### Discussion: \n",
        "\n",
        "Suppose we want to do Linear Regression on our dataset to get an estimate, based on mean squared error, of how well our model will perform on data outside our dataset. \n",
        "\n",
        "Suppose also that our data is split into three folds: Fold 1, Fold 2, and Fold 3.\n",
        "\n",
        "What would the steps be, in English, to do this?\n"
      ]
    },
    {
      "cell_type": "markdown",
      "metadata": {},
      "source": [
        "**Your response below**\n"
      ]
    },
    {
      "cell_type": "markdown",
      "metadata": {},
      "source": [
        " \n"
      ]
    },
    {
      "cell_type": "markdown",
      "metadata": {},
      "source": [
        "#### Coding this up\n",
        "\n",
        "The [`KFold`](http://scikit-learn.org/stable/modules/generated/sklearn.model_selection.KFold.html) object in SciKit Learn tells the cross validation object (see below) how to split up the data:\n"
      ]
    },
    {
      "cell_type": "code",
      "execution_count": 6,
      "metadata": {},
      "outputs": [],
      "source": [
        "X = boston_data.drop('MEDV', axis=1)\n",
        "y = boston_data.MEDV"
      ]
    },
    {
      "cell_type": "code",
      "execution_count": 8,
      "metadata": {},
      "outputs": [
        {
          "data": {
            "text/plain": [
              "KFold(n_splits=3, random_state=72018, shuffle=True)"
            ]
          },
          "execution_count": 8,
          "metadata": {},
          "output_type": "execute_result"
        }
      ],
      "source": [
        "kf = KFold(shuffle=True, random_state=72018, n_splits=3)\n",
        "kf"
      ]
    },
    {
      "cell_type": "code",
      "execution_count": 9,
      "metadata": {},
      "outputs": [
        {
          "name": "stdout",
          "output_type": "stream",
          "text": [
            "Train index:  [ 1  3  4  5  7  8 10 11 12 13] 337\n",
            "Test index:  [ 0  2  6  9 15 17 19 23 25 26] 169\n",
            "\n",
            "Train index:  [ 0  2  6  9 10 11 12 13 15 17] 337\n",
            "Test index:  [ 1  3  4  5  7  8 14 16 22 27] 169\n",
            "\n",
            "Train index:  [0 1 2 3 4 5 6 7 8 9] 338\n",
            "Test index:  [10 11 12 13 18 20 21 24 28 31] 168\n",
            "\n"
          ]
        }
      ],
      "source": [
        "for train_index, test_index in kf.split(X):\n",
        "    print(\"Train index: \", train_index[:10], len(train_index))\n",
        "    print(\"Test index: \", test_index[:10], len(test_index))\n",
        "    print('')"
      ]
    },
    {
      "cell_type": "code",
      "execution_count": 10,
      "metadata": {},
      "outputs": [
        {
          "data": {
            "text/plain": [
              "[0.6719348798472737, 0.7485020059212378, 0.6976807323597766]"
            ]
          },
          "execution_count": 10,
          "metadata": {},
          "output_type": "execute_result"
        }
      ],
      "source": [
        "#from sklearn.metrics import r2_score, mean_squared_error\n",
        "\n",
        "scores = []\n",
        "lr = LinearRegression()\n",
        "\n",
        "for train_index, test_index in kf.split(X):\n",
        "    X_train, X_test, y_train, y_test = (X.iloc[train_index, :], \n",
        "                                        X.iloc[test_index, :], \n",
        "                                        y[train_index], \n",
        "                                        y[test_index])\n",
        "    \n",
        "    lr.fit(X_train, y_train)\n",
        "        \n",
        "    y_pred = lr.predict(X_test)\n",
        "\n",
        "    score = r2_score(y_test.values, y_pred)\n",
        "    \n",
        "    scores.append(score)\n",
        "    \n",
        "scores"
      ]
    },
    {
      "cell_type": "markdown",
      "metadata": {},
      "source": [
        "A bit cumbersome, but do-able.\n"
      ]
    },
    {
      "cell_type": "markdown",
      "metadata": {},
      "source": [
        "### Discussion (Part 2): \n",
        "\n",
        "Now suppose we want to do the same, but appropriately scaling our data as we go through the folds.\n",
        "\n",
        "What would the steps be _now_?\n"
      ]
    },
    {
      "cell_type": "markdown",
      "metadata": {},
      "source": [
        "**Your response below**\n"
      ]
    },
    {
      "cell_type": "markdown",
      "metadata": {},
      "source": [
        "### Coding this up\n"
      ]
    },
    {
      "cell_type": "code",
      "execution_count": 12,
      "metadata": {},
      "outputs": [],
      "source": [
        "scores = []\n",
        "\n",
        "lr = LinearRegression()\n",
        "s = StandardScaler()\n",
        "\n",
        "for train_index, test_index in kf.split(X):\n",
        "    X_train, X_test, y_train, y_test = (X.iloc[train_index, :], \n",
        "                                        X.iloc[test_index, :], \n",
        "                                        y[train_index], \n",
        "                                        y[test_index])\n",
        "    \n",
        "    # SCALING\n",
        "    \n",
        "    # train\n",
        "    X_train_s = s.fit_transform(X_train)\n",
        "    lr.fit(X_train_s, y_train)\n",
        "    #test\n",
        "    X_test_s = s.fit_transform(X_test)\n",
        "    \n",
        "    y_pred = lr.predict(X_test_s)\n",
        "    score = r2_score(y_test.values, y_pred)\n",
        "    \n",
        "    scores.append(score)\n",
        "    \n",
        "    "
      ]
    },
    {
      "cell_type": "code",
      "execution_count": 13,
      "metadata": {},
      "outputs": [
        {
          "data": {
            "text/plain": [
              "[0.6747581676036647, 0.7533098667653678, 0.7099993840121515]"
            ]
          },
          "execution_count": 13,
          "metadata": {},
          "output_type": "execute_result"
        }
      ],
      "source": [
        "scores"
      ]
    },
    {
      "cell_type": "markdown",
      "metadata": {},
      "source": [
        "(same scores, because for vanilla linear regression with no regularization, scaling actually doesn't matter for performance)\n"
      ]
    },
    {
      "cell_type": "markdown",
      "metadata": {},
      "source": [
        "This is getting quite cumbersome! \n",
        "\n",
        "_Very_ luckily, SciKit Learn has some wonderful functions that handle a lot of this for us.\n"
      ]
    },
    {
      "cell_type": "markdown",
      "metadata": {},
      "source": [
        "### `Pipeline` and `cross_val_predict`\n"
      ]
    },
    {
      "cell_type": "markdown",
      "metadata": {},
      "source": [
        "`Pipeline` lets you chain together multiple operators on your data that both have a `fit` method.\n"
      ]
    },
    {
      "cell_type": "code",
      "execution_count": 14,
      "metadata": {},
      "outputs": [],
      "source": [
        "s = StandardScaler()\n",
        "lr = LinearRegression()"
      ]
    },
    {
      "cell_type": "markdown",
      "metadata": {},
      "source": [
        "### Combine multiple processing steps into a `Pipeline`\n",
        "\n",
        "A pipeline contains a series of steps, where a step is (\"name of step\", actual_model). The \"name of step\" string is only used to help you identify which step you are on, and to allow you to specify parameters at that step.  \n"
      ]
    },
    {
      "cell_type": "code",
      "execution_count": 15,
      "metadata": {},
      "outputs": [],
      "source": [
        "estimator = Pipeline([(\"scaler\", s),\n",
        "                      (\"regression\", lr)])"
      ]
    },
    {
      "cell_type": "code",
      "execution_count": 20,
      "metadata": {},
      "outputs": [
        {
          "data": {
            "text/html": [
              "<style>#sk-container-id-1 {\n",
              "  /* Definition of color scheme common for light and dark mode */\n",
              "  --sklearn-color-text: black;\n",
              "  --sklearn-color-line: gray;\n",
              "  /* Definition of color scheme for unfitted estimators */\n",
              "  --sklearn-color-unfitted-level-0: #fff5e6;\n",
              "  --sklearn-color-unfitted-level-1: #f6e4d2;\n",
              "  --sklearn-color-unfitted-level-2: #ffe0b3;\n",
              "  --sklearn-color-unfitted-level-3: chocolate;\n",
              "  /* Definition of color scheme for fitted estimators */\n",
              "  --sklearn-color-fitted-level-0: #f0f8ff;\n",
              "  --sklearn-color-fitted-level-1: #d4ebff;\n",
              "  --sklearn-color-fitted-level-2: #b3dbfd;\n",
              "  --sklearn-color-fitted-level-3: cornflowerblue;\n",
              "\n",
              "  /* Specific color for light theme */\n",
              "  --sklearn-color-text-on-default-background: var(--sg-text-color, var(--theme-code-foreground, var(--jp-content-font-color1, black)));\n",
              "  --sklearn-color-background: var(--sg-background-color, var(--theme-background, var(--jp-layout-color0, white)));\n",
              "  --sklearn-color-border-box: var(--sg-text-color, var(--theme-code-foreground, var(--jp-content-font-color1, black)));\n",
              "  --sklearn-color-icon: #696969;\n",
              "\n",
              "  @media (prefers-color-scheme: dark) {\n",
              "    /* Redefinition of color scheme for dark theme */\n",
              "    --sklearn-color-text-on-default-background: var(--sg-text-color, var(--theme-code-foreground, var(--jp-content-font-color1, white)));\n",
              "    --sklearn-color-background: var(--sg-background-color, var(--theme-background, var(--jp-layout-color0, #111)));\n",
              "    --sklearn-color-border-box: var(--sg-text-color, var(--theme-code-foreground, var(--jp-content-font-color1, white)));\n",
              "    --sklearn-color-icon: #878787;\n",
              "  }\n",
              "}\n",
              "\n",
              "#sk-container-id-1 {\n",
              "  color: var(--sklearn-color-text);\n",
              "}\n",
              "\n",
              "#sk-container-id-1 pre {\n",
              "  padding: 0;\n",
              "}\n",
              "\n",
              "#sk-container-id-1 input.sk-hidden--visually {\n",
              "  border: 0;\n",
              "  clip: rect(1px 1px 1px 1px);\n",
              "  clip: rect(1px, 1px, 1px, 1px);\n",
              "  height: 1px;\n",
              "  margin: -1px;\n",
              "  overflow: hidden;\n",
              "  padding: 0;\n",
              "  position: absolute;\n",
              "  width: 1px;\n",
              "}\n",
              "\n",
              "#sk-container-id-1 div.sk-dashed-wrapped {\n",
              "  border: 1px dashed var(--sklearn-color-line);\n",
              "  margin: 0 0.4em 0.5em 0.4em;\n",
              "  box-sizing: border-box;\n",
              "  padding-bottom: 0.4em;\n",
              "  background-color: var(--sklearn-color-background);\n",
              "}\n",
              "\n",
              "#sk-container-id-1 div.sk-container {\n",
              "  /* jupyter's `normalize.less` sets `[hidden] { display: none; }`\n",
              "     but bootstrap.min.css set `[hidden] { display: none !important; }`\n",
              "     so we also need the `!important` here to be able to override the\n",
              "     default hidden behavior on the sphinx rendered scikit-learn.org.\n",
              "     See: https://github.com/scikit-learn/scikit-learn/issues/21755 */\n",
              "  display: inline-block !important;\n",
              "  position: relative;\n",
              "}\n",
              "\n",
              "#sk-container-id-1 div.sk-text-repr-fallback {\n",
              "  display: none;\n",
              "}\n",
              "\n",
              "div.sk-parallel-item,\n",
              "div.sk-serial,\n",
              "div.sk-item {\n",
              "  /* draw centered vertical line to link estimators */\n",
              "  background-image: linear-gradient(var(--sklearn-color-text-on-default-background), var(--sklearn-color-text-on-default-background));\n",
              "  background-size: 2px 100%;\n",
              "  background-repeat: no-repeat;\n",
              "  background-position: center center;\n",
              "}\n",
              "\n",
              "/* Parallel-specific style estimator block */\n",
              "\n",
              "#sk-container-id-1 div.sk-parallel-item::after {\n",
              "  content: \"\";\n",
              "  width: 100%;\n",
              "  border-bottom: 2px solid var(--sklearn-color-text-on-default-background);\n",
              "  flex-grow: 1;\n",
              "}\n",
              "\n",
              "#sk-container-id-1 div.sk-parallel {\n",
              "  display: flex;\n",
              "  align-items: stretch;\n",
              "  justify-content: center;\n",
              "  background-color: var(--sklearn-color-background);\n",
              "  position: relative;\n",
              "}\n",
              "\n",
              "#sk-container-id-1 div.sk-parallel-item {\n",
              "  display: flex;\n",
              "  flex-direction: column;\n",
              "}\n",
              "\n",
              "#sk-container-id-1 div.sk-parallel-item:first-child::after {\n",
              "  align-self: flex-end;\n",
              "  width: 50%;\n",
              "}\n",
              "\n",
              "#sk-container-id-1 div.sk-parallel-item:last-child::after {\n",
              "  align-self: flex-start;\n",
              "  width: 50%;\n",
              "}\n",
              "\n",
              "#sk-container-id-1 div.sk-parallel-item:only-child::after {\n",
              "  width: 0;\n",
              "}\n",
              "\n",
              "/* Serial-specific style estimator block */\n",
              "\n",
              "#sk-container-id-1 div.sk-serial {\n",
              "  display: flex;\n",
              "  flex-direction: column;\n",
              "  align-items: center;\n",
              "  background-color: var(--sklearn-color-background);\n",
              "  padding-right: 1em;\n",
              "  padding-left: 1em;\n",
              "}\n",
              "\n",
              "\n",
              "/* Toggleable style: style used for estimator/Pipeline/ColumnTransformer box that is\n",
              "clickable and can be expanded/collapsed.\n",
              "- Pipeline and ColumnTransformer use this feature and define the default style\n",
              "- Estimators will overwrite some part of the style using the `sk-estimator` class\n",
              "*/\n",
              "\n",
              "/* Pipeline and ColumnTransformer style (default) */\n",
              "\n",
              "#sk-container-id-1 div.sk-toggleable {\n",
              "  /* Default theme specific background. It is overwritten whether we have a\n",
              "  specific estimator or a Pipeline/ColumnTransformer */\n",
              "  background-color: var(--sklearn-color-background);\n",
              "}\n",
              "\n",
              "/* Toggleable label */\n",
              "#sk-container-id-1 label.sk-toggleable__label {\n",
              "  cursor: pointer;\n",
              "  display: block;\n",
              "  width: 100%;\n",
              "  margin-bottom: 0;\n",
              "  padding: 0.5em;\n",
              "  box-sizing: border-box;\n",
              "  text-align: center;\n",
              "}\n",
              "\n",
              "#sk-container-id-1 label.sk-toggleable__label-arrow:before {\n",
              "  /* Arrow on the left of the label */\n",
              "  content: \"▸\";\n",
              "  float: left;\n",
              "  margin-right: 0.25em;\n",
              "  color: var(--sklearn-color-icon);\n",
              "}\n",
              "\n",
              "#sk-container-id-1 label.sk-toggleable__label-arrow:hover:before {\n",
              "  color: var(--sklearn-color-text);\n",
              "}\n",
              "\n",
              "/* Toggleable content - dropdown */\n",
              "\n",
              "#sk-container-id-1 div.sk-toggleable__content {\n",
              "  max-height: 0;\n",
              "  max-width: 0;\n",
              "  overflow: hidden;\n",
              "  text-align: left;\n",
              "  /* unfitted */\n",
              "  background-color: var(--sklearn-color-unfitted-level-0);\n",
              "}\n",
              "\n",
              "#sk-container-id-1 div.sk-toggleable__content.fitted {\n",
              "  /* fitted */\n",
              "  background-color: var(--sklearn-color-fitted-level-0);\n",
              "}\n",
              "\n",
              "#sk-container-id-1 div.sk-toggleable__content pre {\n",
              "  margin: 0.2em;\n",
              "  border-radius: 0.25em;\n",
              "  color: var(--sklearn-color-text);\n",
              "  /* unfitted */\n",
              "  background-color: var(--sklearn-color-unfitted-level-0);\n",
              "}\n",
              "\n",
              "#sk-container-id-1 div.sk-toggleable__content.fitted pre {\n",
              "  /* unfitted */\n",
              "  background-color: var(--sklearn-color-fitted-level-0);\n",
              "}\n",
              "\n",
              "#sk-container-id-1 input.sk-toggleable__control:checked~div.sk-toggleable__content {\n",
              "  /* Expand drop-down */\n",
              "  max-height: 200px;\n",
              "  max-width: 100%;\n",
              "  overflow: auto;\n",
              "}\n",
              "\n",
              "#sk-container-id-1 input.sk-toggleable__control:checked~label.sk-toggleable__label-arrow:before {\n",
              "  content: \"▾\";\n",
              "}\n",
              "\n",
              "/* Pipeline/ColumnTransformer-specific style */\n",
              "\n",
              "#sk-container-id-1 div.sk-label input.sk-toggleable__control:checked~label.sk-toggleable__label {\n",
              "  color: var(--sklearn-color-text);\n",
              "  background-color: var(--sklearn-color-unfitted-level-2);\n",
              "}\n",
              "\n",
              "#sk-container-id-1 div.sk-label.fitted input.sk-toggleable__control:checked~label.sk-toggleable__label {\n",
              "  background-color: var(--sklearn-color-fitted-level-2);\n",
              "}\n",
              "\n",
              "/* Estimator-specific style */\n",
              "\n",
              "/* Colorize estimator box */\n",
              "#sk-container-id-1 div.sk-estimator input.sk-toggleable__control:checked~label.sk-toggleable__label {\n",
              "  /* unfitted */\n",
              "  background-color: var(--sklearn-color-unfitted-level-2);\n",
              "}\n",
              "\n",
              "#sk-container-id-1 div.sk-estimator.fitted input.sk-toggleable__control:checked~label.sk-toggleable__label {\n",
              "  /* fitted */\n",
              "  background-color: var(--sklearn-color-fitted-level-2);\n",
              "}\n",
              "\n",
              "#sk-container-id-1 div.sk-label label.sk-toggleable__label,\n",
              "#sk-container-id-1 div.sk-label label {\n",
              "  /* The background is the default theme color */\n",
              "  color: var(--sklearn-color-text-on-default-background);\n",
              "}\n",
              "\n",
              "/* On hover, darken the color of the background */\n",
              "#sk-container-id-1 div.sk-label:hover label.sk-toggleable__label {\n",
              "  color: var(--sklearn-color-text);\n",
              "  background-color: var(--sklearn-color-unfitted-level-2);\n",
              "}\n",
              "\n",
              "/* Label box, darken color on hover, fitted */\n",
              "#sk-container-id-1 div.sk-label.fitted:hover label.sk-toggleable__label.fitted {\n",
              "  color: var(--sklearn-color-text);\n",
              "  background-color: var(--sklearn-color-fitted-level-2);\n",
              "}\n",
              "\n",
              "/* Estimator label */\n",
              "\n",
              "#sk-container-id-1 div.sk-label label {\n",
              "  font-family: monospace;\n",
              "  font-weight: bold;\n",
              "  display: inline-block;\n",
              "  line-height: 1.2em;\n",
              "}\n",
              "\n",
              "#sk-container-id-1 div.sk-label-container {\n",
              "  text-align: center;\n",
              "}\n",
              "\n",
              "/* Estimator-specific */\n",
              "#sk-container-id-1 div.sk-estimator {\n",
              "  font-family: monospace;\n",
              "  border: 1px dotted var(--sklearn-color-border-box);\n",
              "  border-radius: 0.25em;\n",
              "  box-sizing: border-box;\n",
              "  margin-bottom: 0.5em;\n",
              "  /* unfitted */\n",
              "  background-color: var(--sklearn-color-unfitted-level-0);\n",
              "}\n",
              "\n",
              "#sk-container-id-1 div.sk-estimator.fitted {\n",
              "  /* fitted */\n",
              "  background-color: var(--sklearn-color-fitted-level-0);\n",
              "}\n",
              "\n",
              "/* on hover */\n",
              "#sk-container-id-1 div.sk-estimator:hover {\n",
              "  /* unfitted */\n",
              "  background-color: var(--sklearn-color-unfitted-level-2);\n",
              "}\n",
              "\n",
              "#sk-container-id-1 div.sk-estimator.fitted:hover {\n",
              "  /* fitted */\n",
              "  background-color: var(--sklearn-color-fitted-level-2);\n",
              "}\n",
              "\n",
              "/* Specification for estimator info (e.g. \"i\" and \"?\") */\n",
              "\n",
              "/* Common style for \"i\" and \"?\" */\n",
              "\n",
              ".sk-estimator-doc-link,\n",
              "a:link.sk-estimator-doc-link,\n",
              "a:visited.sk-estimator-doc-link {\n",
              "  float: right;\n",
              "  font-size: smaller;\n",
              "  line-height: 1em;\n",
              "  font-family: monospace;\n",
              "  background-color: var(--sklearn-color-background);\n",
              "  border-radius: 1em;\n",
              "  height: 1em;\n",
              "  width: 1em;\n",
              "  text-decoration: none !important;\n",
              "  margin-left: 1ex;\n",
              "  /* unfitted */\n",
              "  border: var(--sklearn-color-unfitted-level-1) 1pt solid;\n",
              "  color: var(--sklearn-color-unfitted-level-1);\n",
              "}\n",
              "\n",
              ".sk-estimator-doc-link.fitted,\n",
              "a:link.sk-estimator-doc-link.fitted,\n",
              "a:visited.sk-estimator-doc-link.fitted {\n",
              "  /* fitted */\n",
              "  border: var(--sklearn-color-fitted-level-1) 1pt solid;\n",
              "  color: var(--sklearn-color-fitted-level-1);\n",
              "}\n",
              "\n",
              "/* On hover */\n",
              "div.sk-estimator:hover .sk-estimator-doc-link:hover,\n",
              ".sk-estimator-doc-link:hover,\n",
              "div.sk-label-container:hover .sk-estimator-doc-link:hover,\n",
              ".sk-estimator-doc-link:hover {\n",
              "  /* unfitted */\n",
              "  background-color: var(--sklearn-color-unfitted-level-3);\n",
              "  color: var(--sklearn-color-background);\n",
              "  text-decoration: none;\n",
              "}\n",
              "\n",
              "div.sk-estimator.fitted:hover .sk-estimator-doc-link.fitted:hover,\n",
              ".sk-estimator-doc-link.fitted:hover,\n",
              "div.sk-label-container:hover .sk-estimator-doc-link.fitted:hover,\n",
              ".sk-estimator-doc-link.fitted:hover {\n",
              "  /* fitted */\n",
              "  background-color: var(--sklearn-color-fitted-level-3);\n",
              "  color: var(--sklearn-color-background);\n",
              "  text-decoration: none;\n",
              "}\n",
              "\n",
              "/* Span, style for the box shown on hovering the info icon */\n",
              ".sk-estimator-doc-link span {\n",
              "  display: none;\n",
              "  z-index: 9999;\n",
              "  position: relative;\n",
              "  font-weight: normal;\n",
              "  right: .2ex;\n",
              "  padding: .5ex;\n",
              "  margin: .5ex;\n",
              "  width: min-content;\n",
              "  min-width: 20ex;\n",
              "  max-width: 50ex;\n",
              "  color: var(--sklearn-color-text);\n",
              "  box-shadow: 2pt 2pt 4pt #999;\n",
              "  /* unfitted */\n",
              "  background: var(--sklearn-color-unfitted-level-0);\n",
              "  border: .5pt solid var(--sklearn-color-unfitted-level-3);\n",
              "}\n",
              "\n",
              ".sk-estimator-doc-link.fitted span {\n",
              "  /* fitted */\n",
              "  background: var(--sklearn-color-fitted-level-0);\n",
              "  border: var(--sklearn-color-fitted-level-3);\n",
              "}\n",
              "\n",
              ".sk-estimator-doc-link:hover span {\n",
              "  display: block;\n",
              "}\n",
              "\n",
              "/* \"?\"-specific style due to the `<a>` HTML tag */\n",
              "\n",
              "#sk-container-id-1 a.estimator_doc_link {\n",
              "  float: right;\n",
              "  font-size: 1rem;\n",
              "  line-height: 1em;\n",
              "  font-family: monospace;\n",
              "  background-color: var(--sklearn-color-background);\n",
              "  border-radius: 1rem;\n",
              "  height: 1rem;\n",
              "  width: 1rem;\n",
              "  text-decoration: none;\n",
              "  /* unfitted */\n",
              "  color: var(--sklearn-color-unfitted-level-1);\n",
              "  border: var(--sklearn-color-unfitted-level-1) 1pt solid;\n",
              "}\n",
              "\n",
              "#sk-container-id-1 a.estimator_doc_link.fitted {\n",
              "  /* fitted */\n",
              "  border: var(--sklearn-color-fitted-level-1) 1pt solid;\n",
              "  color: var(--sklearn-color-fitted-level-1);\n",
              "}\n",
              "\n",
              "/* On hover */\n",
              "#sk-container-id-1 a.estimator_doc_link:hover {\n",
              "  /* unfitted */\n",
              "  background-color: var(--sklearn-color-unfitted-level-3);\n",
              "  color: var(--sklearn-color-background);\n",
              "  text-decoration: none;\n",
              "}\n",
              "\n",
              "#sk-container-id-1 a.estimator_doc_link.fitted:hover {\n",
              "  /* fitted */\n",
              "  background-color: var(--sklearn-color-fitted-level-3);\n",
              "}\n",
              "</style><div id=\"sk-container-id-1\" class=\"sk-top-container\"><div class=\"sk-text-repr-fallback\"><pre>Pipeline(steps=[(&#x27;scaler&#x27;, StandardScaler()),\n",
              "                (&#x27;regression&#x27;, LinearRegression())])</pre><b>In a Jupyter environment, please rerun this cell to show the HTML representation or trust the notebook. <br />On GitHub, the HTML representation is unable to render, please try loading this page with nbviewer.org.</b></div><div class=\"sk-container\" hidden><div class=\"sk-item sk-dashed-wrapped\"><div class=\"sk-label-container\"><div class=\"sk-label  sk-toggleable\"><input class=\"sk-toggleable__control sk-hidden--visually\" id=\"sk-estimator-id-1\" type=\"checkbox\" ><label for=\"sk-estimator-id-1\" class=\"sk-toggleable__label  sk-toggleable__label-arrow \">&nbsp;&nbsp;Pipeline<a class=\"sk-estimator-doc-link \" rel=\"noreferrer\" target=\"_blank\" href=\"https://scikit-learn.org/1.5/modules/generated/sklearn.pipeline.Pipeline.html\">?<span>Documentation for Pipeline</span></a><span class=\"sk-estimator-doc-link \">i<span>Not fitted</span></span></label><div class=\"sk-toggleable__content \"><pre>Pipeline(steps=[(&#x27;scaler&#x27;, StandardScaler()),\n",
              "                (&#x27;regression&#x27;, LinearRegression())])</pre></div> </div></div><div class=\"sk-serial\"><div class=\"sk-item\"><div class=\"sk-estimator  sk-toggleable\"><input class=\"sk-toggleable__control sk-hidden--visually\" id=\"sk-estimator-id-2\" type=\"checkbox\" ><label for=\"sk-estimator-id-2\" class=\"sk-toggleable__label  sk-toggleable__label-arrow \">&nbsp;StandardScaler<a class=\"sk-estimator-doc-link \" rel=\"noreferrer\" target=\"_blank\" href=\"https://scikit-learn.org/1.5/modules/generated/sklearn.preprocessing.StandardScaler.html\">?<span>Documentation for StandardScaler</span></a></label><div class=\"sk-toggleable__content \"><pre>StandardScaler()</pre></div> </div></div><div class=\"sk-item\"><div class=\"sk-estimator  sk-toggleable\"><input class=\"sk-toggleable__control sk-hidden--visually\" id=\"sk-estimator-id-3\" type=\"checkbox\" ><label for=\"sk-estimator-id-3\" class=\"sk-toggleable__label  sk-toggleable__label-arrow \">&nbsp;LinearRegression<a class=\"sk-estimator-doc-link \" rel=\"noreferrer\" target=\"_blank\" href=\"https://scikit-learn.org/1.5/modules/generated/sklearn.linear_model.LinearRegression.html\">?<span>Documentation for LinearRegression</span></a></label><div class=\"sk-toggleable__content \"><pre>LinearRegression()</pre></div> </div></div></div></div></div></div>"
            ],
            "text/plain": [
              "Pipeline(steps=[('scaler', StandardScaler()),\n",
              "                ('regression', LinearRegression())])"
            ]
          },
          "execution_count": 20,
          "metadata": {},
          "output_type": "execute_result"
        }
      ],
      "source": [
        "estimator"
      ]
    },
    {
      "cell_type": "markdown",
      "metadata": {},
      "source": [
        "### `cross_val_predict`\n",
        "\n",
        "[`cross_val_predict`](http://scikit-learn.org/stable/modules/generated/sklearn.model_selection.cross_val_predict.html) is a function that does K-fold cross validation for us, appropriately fitting and transforming at every step of the way.\n"
      ]
    },
    {
      "cell_type": "code",
      "execution_count": 16,
      "metadata": {},
      "outputs": [
        {
          "data": {
            "text/plain": [
              "KFold(n_splits=3, random_state=72018, shuffle=True)"
            ]
          },
          "execution_count": 16,
          "metadata": {},
          "output_type": "execute_result"
        }
      ],
      "source": [
        "kf"
      ]
    },
    {
      "cell_type": "code",
      "execution_count": 17,
      "metadata": {},
      "outputs": [],
      "source": [
        "predictions = cross_val_predict(estimator, X, y, cv=kf)"
      ]
    },
    {
      "cell_type": "code",
      "execution_count": 18,
      "metadata": {},
      "outputs": [
        {
          "data": {
            "text/plain": [
              "0.7063531064161561"
            ]
          },
          "execution_count": 18,
          "metadata": {},
          "output_type": "execute_result"
        }
      ],
      "source": [
        "r2_score(y, predictions)"
      ]
    },
    {
      "cell_type": "code",
      "execution_count": 19,
      "metadata": {},
      "outputs": [
        {
          "data": {
            "text/plain": [
              "np.float64(0.7126891394603948)"
            ]
          },
          "execution_count": 19,
          "metadata": {},
          "output_type": "execute_result"
        }
      ],
      "source": [
        "np.mean(scores) # almost identical!"
      ]
    },
    {
      "cell_type": "markdown",
      "metadata": {},
      "source": [
        "Note that `cross_val_predict` doesn't use the same model for all steps; the predictions for each row are made when that row is in the validation set. We really have the collected results of 3 (i.e. `kf.num_splits`) different models. \n",
        "\n",
        "When we are done, `estimator` is still not fitted. If we want to predict on _new_ data, we still have to train our `estimator`. \n"
      ]
    },
    {
      "cell_type": "markdown",
      "metadata": {},
      "source": [
        "## Hyperparameter tuning\n"
      ]
    },
    {
      "cell_type": "markdown",
      "metadata": {},
      "source": [
        "### Definition\n",
        "\n",
        "**Hyperparameter tuning** involves using cross validation (or train-test split) to determine which hyperparameters are most likely to generate a model that _generalizes_ well outside of your sample.\n",
        "\n",
        "### Mechanics\n",
        "\n",
        "We can generate an exponentially spaces range of values using the numpy [`geomspace`](https://docs.scipy.org/doc/numpy/reference/generated/numpy.geomspace.html#numpy.geomspace) function.\n",
        "\n",
        "```python\n",
        "np.geomspace(1, 1000, num=4)\n",
        "```\n",
        "\n",
        "produces:\n",
        "\n",
        "```\n",
        "array([    1.,    10.,   100.,  1000.])\n",
        "```\n",
        "\n",
        "Use this function to generate a list of length 10 called `alphas` for hyperparameter tuning:\n"
      ]
    },
    {
      "cell_type": "code",
      "execution_count": 21,
      "metadata": {},
      "outputs": [
        {
          "data": {
            "text/plain": [
              "array([1.e-09, 1.e-08, 1.e-07, 1.e-06, 1.e-05, 1.e-04, 1.e-03, 1.e-02,\n",
              "       1.e-01, 1.e+00])"
            ]
          },
          "execution_count": 21,
          "metadata": {},
          "output_type": "execute_result"
        }
      ],
      "source": [
        "alphas = np.geomspace(1e-9, 1e0, num=10)\n",
        "alphas"
      ]
    },
    {
      "cell_type": "markdown",
      "metadata": {},
      "source": [
        "The code below tunes the `alpha` hyperparameter for Lasso regression.\n"
      ]
    },
    {
      "cell_type": "code",
      "execution_count": 22,
      "metadata": {},
      "outputs": [],
      "source": [
        "scores = []\n",
        "coefs = []\n",
        "for alpha in alphas:\n",
        "    las = Lasso(alpha=alpha, max_iter=100000)\n",
        "    \n",
        "    estimator = Pipeline([\n",
        "        (\"scaler\", s),\n",
        "        (\"lasso_regression\", las)])\n",
        "\n",
        "    predictions = cross_val_predict(estimator, X, y, cv = kf)\n",
        "    \n",
        "    score = r2_score(y, predictions)\n",
        "    \n",
        "    scores.append(score)"
      ]
    },
    {
      "cell_type": "code",
      "execution_count": 23,
      "metadata": {},
      "outputs": [
        {
          "data": {
            "text/plain": [
              "[(np.float64(1e-09), 0.7063531064981925),\n",
              " (np.float64(1e-08), 0.7063531072356071),\n",
              " (np.float64(1e-07), 0.7063531145602442),\n",
              " (np.float64(1e-06), 0.7063531882052063),\n",
              " (np.float64(1e-05), 0.7063539165191507),\n",
              " (np.float64(0.0001), 0.706361268093463),\n",
              " (np.float64(0.001), 0.706433467041546),\n",
              " (np.float64(0.01), 0.7070865958083233),\n",
              " (np.float64(0.1), 0.705838151167185),\n",
              " (np.float64(1.0), 0.6512724532884888)]"
            ]
          },
          "execution_count": 23,
          "metadata": {},
          "output_type": "execute_result"
        }
      ],
      "source": [
        "list(zip(alphas,scores))"
      ]
    },
    {
      "cell_type": "code",
      "execution_count": 24,
      "metadata": {},
      "outputs": [
        {
          "data": {
            "text/plain": [
              "array([-1.07170372e-01,  4.63952623e-02,  2.08588308e-02,  2.68854318e+00,\n",
              "       -1.77954207e+01,  3.80475296e+00,  7.50802707e-04, -1.47575348e+00,\n",
              "        3.05654279e-01, -1.23293755e-02, -9.53459908e-01,  9.39253013e-03,\n",
              "       -5.25467196e-01])"
            ]
          },
          "execution_count": 24,
          "metadata": {},
          "output_type": "execute_result"
        }
      ],
      "source": [
        "Lasso(alpha=1e-6).fit(X, y).coef_"
      ]
    },
    {
      "cell_type": "code",
      "execution_count": 25,
      "metadata": {},
      "outputs": [
        {
          "data": {
            "text/plain": [
              "array([-0.06342255,  0.04916867, -0.        ,  0.        , -0.        ,\n",
              "        0.94678567,  0.02092737, -0.66900864,  0.26417501, -0.01520915,\n",
              "       -0.72319901,  0.00829117, -0.76143296])"
            ]
          },
          "execution_count": 25,
          "metadata": {},
          "output_type": "execute_result"
        }
      ],
      "source": [
        "Lasso(alpha=1.0).fit(X, y).coef_"
      ]
    },
    {
      "cell_type": "code",
      "execution_count": null,
      "metadata": {},
      "outputs": [],
      "source": [
        "plt.figure(figsize=(10,6))\n",
        "plt.semilogx(alphas, scores, '-o')\n",
        "plt.xlabel('$\\\\alpha$')\n",
        "plt.ylabel('$R^2$');"
      ]
    },
    {
      "cell_type": "markdown",
      "metadata": {},
      "source": [
        "### Exercise\n",
        "\n",
        "Add `PolynomialFeatures` to this `Pipeline`, and re-run the cross validation with the `PolynomialFeatures` added.\n",
        "\n",
        "**Hint #1:** pipelines process input from first to last. Think about the order that it would make sense to add Polynomial Features to the data in sequence and add them in the appropriate place in the pipeline.\n",
        "\n",
        "**Hint #2:** you should see a significant increase in cross validation accuracy from doing this\n"
      ]
    },
    {
      "cell_type": "code",
      "execution_count": 43,
      "metadata": {},
      "outputs": [],
      "source": [
        "pf = PolynomialFeatures(degree=3)\n",
        "\n",
        "scores = []\n",
        "alphas = np.geomspace(0.06, 6.0, 20)\n",
        "for alpha in alphas:\n",
        "    las = Lasso(alpha=alpha, max_iter=100000)\n",
        "    \n",
        "    estimator = Pipeline([\n",
        "        (\"scaler\", s),\n",
        "        (\"make_higher_degree\", pf),\n",
        "        (\"lasso_regression\", las)])\n",
        "\n",
        "    predictions = cross_val_predict(estimator, X, y, cv = kf)\n",
        "    \n",
        "    score = r2_score(y, predictions)\n",
        "    \n",
        "    scores.append(score)"
      ]
    },
    {
      "cell_type": "code",
      "execution_count": 44,
      "metadata": {},
      "outputs": [
        {
          "data": {
            "text/plain": [
              "array([0.06      , 0.0764565 , 0.0974266 , 0.12414828, 0.15819905,\n",
              "       0.2015891 , 0.25687994, 0.32733569, 0.41711568, 0.53152007,\n",
              "       0.67730274, 0.86306993, 1.09978843, 1.40143288, 1.78581086,\n",
              "       2.27561411, 2.89975814, 3.69508927, 4.70855982, 6.        ])"
            ]
          },
          "execution_count": 44,
          "metadata": {},
          "output_type": "execute_result"
        }
      ],
      "source": [
        "alphas"
      ]
    },
    {
      "cell_type": "markdown",
      "metadata": {},
      "source": [
        "If you store the results in a list called `scores`, the following will work:\n"
      ]
    },
    {
      "cell_type": "code",
      "execution_count": 34,
      "metadata": {},
      "outputs": [
        {
          "data": {
            "image/png": "[encoded data removed]",
            "text/plain": [
              "<Figure size 640x480 with 1 Axes>"
            ]
          },
          "metadata": {},
          "output_type": "display_data"
        }
      ],
      "source": [
        "plt.semilogx(alphas, scores);"
      ]
    },
    {
      "cell_type": "code",
      "execution_count": 38,
      "metadata": {},
      "outputs": [
        {
          "data": {
            "text/plain": [
              "0.9134777735196521"
            ]
          },
          "execution_count": 38,
          "metadata": {},
          "output_type": "execute_result"
        }
      ],
      "source": [
        "# Once we have found the hyperparameter (alpha~1e-2=0.01)\n",
        "# make the model and train it on ALL the data\n",
        "# Then release it into the wild .....\n",
        "best_estimator = Pipeline([\n",
        "                    (\"scaler\", s),\n",
        "                    (\"make_higher_degree\", PolynomialFeatures(degree=2)),\n",
        "                    (\"lasso_regression\", Lasso(alpha=0.03))])\n",
        "\n",
        "best_estimator.fit(X, y)\n",
        "best_estimator.score(X, y)"
      ]
    },
    {
      "cell_type": "code",
      "execution_count": 39,
      "metadata": {},
      "outputs": [
        {
          "data": {
            "text/plain": [
              "array([ 0.00000000e+00, -0.00000000e+00, -0.00000000e+00, -0.00000000e+00,\n",
              "        0.00000000e+00, -1.00309168e+00,  3.32679107e+00, -1.01840878e+00,\n",
              "       -2.56161421e+00,  1.12778302e+00, -1.72266155e+00, -5.37088506e-01,\n",
              "        4.39555878e-01, -3.39542586e+00,  7.22387712e-02,  0.00000000e+00,\n",
              "        0.00000000e+00,  3.53653554e+00, -0.00000000e+00,  3.72285440e-01,\n",
              "        0.00000000e+00,  0.00000000e+00, -5.49528703e-01, -0.00000000e+00,\n",
              "       -0.00000000e+00, -4.05522485e-02,  2.25864611e-01,  1.78508858e-01,\n",
              "        0.00000000e+00,  0.00000000e+00,  0.00000000e+00,  6.50874606e-02,\n",
              "       -0.00000000e+00, -2.07295802e-01, -0.00000000e+00,  3.71781995e-01,\n",
              "        0.00000000e+00, -0.00000000e+00, -5.89531100e-02,  3.47180625e-01,\n",
              "        0.00000000e+00,  9.23666274e-01,  3.48873365e-01,  7.29463442e-02,\n",
              "        0.00000000e+00,  0.00000000e+00,  7.68485586e-02, -7.21083596e-01,\n",
              "        0.00000000e+00, -5.98542558e-01,  4.18420677e-01, -7.98165728e-01,\n",
              "       -7.25062683e-01,  2.34818861e-01, -0.00000000e+00, -0.00000000e+00,\n",
              "        0.00000000e+00, -1.68164447e-02,  0.00000000e+00, -4.04477826e-01,\n",
              "       -4.22989874e-01, -4.06983988e-01, -3.75443720e-01,  4.17684564e-01,\n",
              "       -8.91841193e-01,  0.00000000e+00, -2.69309481e-01,  0.00000000e+00,\n",
              "        1.02286785e-01,  2.02570379e-01, -6.88345376e-01, -0.00000000e+00,\n",
              "       -1.08598703e+00, -3.98751731e-01, -9.37684760e-01, -1.17343147e-01,\n",
              "       -7.37427594e-01,  0.00000000e+00,  0.00000000e+00,  1.36340670e+00,\n",
              "       -0.00000000e+00, -2.94691228e-03, -8.98125013e-01, -8.68198373e-01,\n",
              "        8.03396788e-01, -1.91683803e-01, -1.14706070e-01,  0.00000000e+00,\n",
              "       -0.00000000e+00,  5.83161589e-01, -0.00000000e+00,  5.81365491e-02,\n",
              "        0.00000000e+00, -2.32896159e-01, -1.12440837e+00,  0.00000000e+00,\n",
              "        1.96286997e+00, -0.00000000e+00, -1.00915801e+00, -7.04656486e-02,\n",
              "       -1.06456357e-02, -4.78389591e-02, -3.97645601e-01, -3.84121840e-01,\n",
              "        9.97402419e-01])"
            ]
          },
          "execution_count": 39,
          "metadata": {},
          "output_type": "execute_result"
        }
      ],
      "source": [
        "best_estimator.named_steps[\"lasso_regression\"].coef_"
      ]
    },
    {
      "cell_type": "markdown",
      "metadata": {},
      "source": [
        "### Exercise\n",
        "\n",
        "Do the same, but with `Ridge` regression \n",
        "\n",
        "Which model, `Ridge` or `Lasso`, performs best with its optimal hyperparameters on the Boston dataset?\n"
      ]
    },
    {
      "cell_type": "code",
      "execution_count": 41,
      "metadata": {},
      "outputs": [
        {
          "data": {
            "text/plain": [
              "[<matplotlib.lines.Line2D at 0x2576296a450>]"
            ]
          },
          "execution_count": 41,
          "metadata": {},
          "output_type": "execute_result"
        },
        {
          "data": {
            "image/png": "[encoded data removed]",
            "text/plain": [
              "<Figure size 640x480 with 1 Axes>"
            ]
          },
          "metadata": {},
          "output_type": "display_data"
        }
      ],
      "source": [
        "pf = PolynomialFeatures(degree=2)\n",
        "\n",
        "alphas = np.geomspace(4, 20, 20)\n",
        "\n",
        "scores = []\n",
        "\n",
        "for alpha in alphas:\n",
        "    ridge = Ridge(alpha=alpha, max_iter=100000)\n",
        "    \n",
        "    estimator = Pipeline([\n",
        "        (\"scalcer\", s),\n",
        "        (\"polynomial_features\", pf),\n",
        "        (\"ridge_regression\", ridge)\n",
        "    ])\n",
        "    \n",
        "    predictions = cross_val_predict(estimator, X, y, cv=kf)\n",
        "    score = r2_score(y,predictions)\n",
        "    scores.append(score)\n",
        "    \n",
        "plt.plot(alphas, scores)"
      ]
    },
    {
      "cell_type": "markdown",
      "metadata": {},
      "source": [
        "**Conclusion:** Both Lasso and Ridge with proper hyperparameter tuning give better results than plain ol' Linear Regression!\n"
      ]
    },
    {
      "cell_type": "markdown",
      "metadata": {},
      "source": [
        "### Exercise:\n"
      ]
    },
    {
      "cell_type": "markdown",
      "metadata": {},
      "source": [
        "Now, for whatever your best overall hyperparameter was: \n",
        "\n",
        "* Standardize the data\n",
        "* Fit and predict on the entire dataset\n",
        "* See what the largest coefficients were\n",
        "    * Hint: use \n",
        "    ```python\n",
        "    dict(zip(model.coef_, pf.get_feature_names()))\n",
        "    ```\n",
        "    for your model `model` to get the feature names from `PolynomialFeatures`.\n",
        "    \n",
        "    Then, use\n",
        "    ```python\n",
        "    dict(zip(list(range(len(X.columns.values))), X.columns.values))\n",
        "    ```\n",
        "    \n",
        "    to see which features in the `PolynomialFeatures` DataFrame correspond to which columns in the original DataFrame.\n"
      ]
    },
    {
      "cell_type": "code",
      "execution_count": null,
      "metadata": {},
      "outputs": [],
      "source": [
        "# Once we have found the hyperparameter (alpha~1e-2=0.01)\n",
        "# make the model and train it on ALL the data\n",
        "# Then release it into the wild .....\n",
        "best_estimator = Pipeline([\n",
        "                    (\"scaler\", s),\n",
        "                    (\"make_higher_degree\", PolynomialFeatures(degree=2)),\n",
        "                    (\"lasso_regression\", Lasso(alpha=0.03))])\n",
        "\n",
        "best_estimator.fit(X, y)\n",
        "best_estimator.score(X, y)"
      ]
    },
    {
      "cell_type": "code",
      "execution_count": null,
      "metadata": {},
      "outputs": [],
      "source": [
        "df_importances = pd.DataFrame(zip(best_estimator.named_steps[\"make_higher_degree\"].get_feature_names_out(),\n",
        "                 best_estimator.named_steps[\"lasso_regression\"].coef_,\n",
        "))"
      ]
    },
    {
      "cell_type": "code",
      "execution_count": null,
      "metadata": {},
      "outputs": [],
      "source": [
        "col_names_dict = dict(zip(list(range(len(X.columns.values))), X.columns.values))"
      ]
    },
    {
      "cell_type": "code",
      "execution_count": null,
      "metadata": {},
      "outputs": [],
      "source": [
        "col_names_dict"
      ]
    },
    {
      "cell_type": "code",
      "execution_count": null,
      "metadata": {},
      "outputs": [],
      "source": [
        "df_importances.sort_values(by=1)"
      ]
    },
    {
      "cell_type": "markdown",
      "metadata": {},
      "source": [
        "## Grid Search CV\n"
      ]
    },
    {
      "cell_type": "markdown",
      "metadata": {},
      "source": [
        "To do cross-validation, we used two techniques:\n",
        "- use `KFolds` and manually create a loop to do cross-validation\n",
        "- use `cross_val_predict` and `score` to get a cross-valiated score in a couple of lines.\n",
        "\n",
        "To do hyper-parameter tuning, we see a general pattern:\n",
        "- use `cross_val_predict` and `score` in a manually written loop over hyperparemeters, then select the best one.\n",
        "\n",
        "Perhaps not surprisingly, there is a function that does this for us -- `GridSearchCV`\n"
      ]
    },
    {
      "cell_type": "code",
      "execution_count": 45,
      "metadata": {},
      "outputs": [],
      "source": [
        "from sklearn.model_selection import GridSearchCV\n",
        "\n",
        "# Same estimator as before\n",
        "estimator = Pipeline([(\"scaler\", StandardScaler()),\n",
        "        (\"polynomial_features\", PolynomialFeatures()),\n",
        "        (\"ridge_regression\", Ridge())])\n",
        "\n",
        "params = {\n",
        "    'polynomial_features__degree': [1, 2, 3],\n",
        "    'ridge_regression__alpha': np.geomspace(4, 20, 20)\n",
        "}\n",
        "\n",
        "grid = GridSearchCV(estimator, params, cv=kf)"
      ]
    },
    {
      "cell_type": "code",
      "execution_count": 46,
      "metadata": {},
      "outputs": [
        {
          "name": "stderr",
          "output_type": "stream",
          "text": [
            "c:\\Users\\Usuario\\AppData\\Local\\Programs\\Python\\Python312\\Lib\\site-packages\\numpy\\ma\\core.py:2846: RuntimeWarning: invalid value encountered in cast\n",
            "  _data = np.array(data, dtype=dtype, copy=copy,\n"
          ]
        },
        {
          "data": {
            "text/html": [
              "<style>#sk-container-id-3 {\n",
              "  /* Definition of color scheme common for light and dark mode */\n",
              "  --sklearn-color-text: black;\n",
              "  --sklearn-color-line: gray;\n",
              "  /* Definition of color scheme for unfitted estimators */\n",
              "  --sklearn-color-unfitted-level-0: #fff5e6;\n",
              "  --sklearn-color-unfitted-level-1: #f6e4d2;\n",
              "  --sklearn-color-unfitted-level-2: #ffe0b3;\n",
              "  --sklearn-color-unfitted-level-3: chocolate;\n",
              "  /* Definition of color scheme for fitted estimators */\n",
              "  --sklearn-color-fitted-level-0: #f0f8ff;\n",
              "  --sklearn-color-fitted-level-1: #d4ebff;\n",
              "  --sklearn-color-fitted-level-2: #b3dbfd;\n",
              "  --sklearn-color-fitted-level-3: cornflowerblue;\n",
              "\n",
              "  /* Specific color for light theme */\n",
              "  --sklearn-color-text-on-default-background: var(--sg-text-color, var(--theme-code-foreground, var(--jp-content-font-color1, black)));\n",
              "  --sklearn-color-background: var(--sg-background-color, var(--theme-background, var(--jp-layout-color0, white)));\n",
              "  --sklearn-color-border-box: var(--sg-text-color, var(--theme-code-foreground, var(--jp-content-font-color1, black)));\n",
              "  --sklearn-color-icon: #696969;\n",
              "\n",
              "  @media (prefers-color-scheme: dark) {\n",
              "    /* Redefinition of color scheme for dark theme */\n",
              "    --sklearn-color-text-on-default-background: var(--sg-text-color, var(--theme-code-foreground, var(--jp-content-font-color1, white)));\n",
              "    --sklearn-color-background: var(--sg-background-color, var(--theme-background, var(--jp-layout-color0, #111)));\n",
              "    --sklearn-color-border-box: var(--sg-text-color, var(--theme-code-foreground, var(--jp-content-font-color1, white)));\n",
              "    --sklearn-color-icon: #878787;\n",
              "  }\n",
              "}\n",
              "\n",
              "#sk-container-id-3 {\n",
              "  color: var(--sklearn-color-text);\n",
              "}\n",
              "\n",
              "#sk-container-id-3 pre {\n",
              "  padding: 0;\n",
              "}\n",
              "\n",
              "#sk-container-id-3 input.sk-hidden--visually {\n",
              "  border: 0;\n",
              "  clip: rect(1px 1px 1px 1px);\n",
              "  clip: rect(1px, 1px, 1px, 1px);\n",
              "  height: 1px;\n",
              "  margin: -1px;\n",
              "  overflow: hidden;\n",
              "  padding: 0;\n",
              "  position: absolute;\n",
              "  width: 1px;\n",
              "}\n",
              "\n",
              "#sk-container-id-3 div.sk-dashed-wrapped {\n",
              "  border: 1px dashed var(--sklearn-color-line);\n",
              "  margin: 0 0.4em 0.5em 0.4em;\n",
              "  box-sizing: border-box;\n",
              "  padding-bottom: 0.4em;\n",
              "  background-color: var(--sklearn-color-background);\n",
              "}\n",
              "\n",
              "#sk-container-id-3 div.sk-container {\n",
              "  /* jupyter's `normalize.less` sets `[hidden] { display: none; }`\n",
              "     but bootstrap.min.css set `[hidden] { display: none !important; }`\n",
              "     so we also need the `!important` here to be able to override the\n",
              "     default hidden behavior on the sphinx rendered scikit-learn.org.\n",
              "     See: https://github.com/scikit-learn/scikit-learn/issues/21755 */\n",
              "  display: inline-block !important;\n",
              "  position: relative;\n",
              "}\n",
              "\n",
              "#sk-container-id-3 div.sk-text-repr-fallback {\n",
              "  display: none;\n",
              "}\n",
              "\n",
              "div.sk-parallel-item,\n",
              "div.sk-serial,\n",
              "div.sk-item {\n",
              "  /* draw centered vertical line to link estimators */\n",
              "  background-image: linear-gradient(var(--sklearn-color-text-on-default-background), var(--sklearn-color-text-on-default-background));\n",
              "  background-size: 2px 100%;\n",
              "  background-repeat: no-repeat;\n",
              "  background-position: center center;\n",
              "}\n",
              "\n",
              "/* Parallel-specific style estimator block */\n",
              "\n",
              "#sk-container-id-3 div.sk-parallel-item::after {\n",
              "  content: \"\";\n",
              "  width: 100%;\n",
              "  border-bottom: 2px solid var(--sklearn-color-text-on-default-background);\n",
              "  flex-grow: 1;\n",
              "}\n",
              "\n",
              "#sk-container-id-3 div.sk-parallel {\n",
              "  display: flex;\n",
              "  align-items: stretch;\n",
              "  justify-content: center;\n",
              "  background-color: var(--sklearn-color-background);\n",
              "  position: relative;\n",
              "}\n",
              "\n",
              "#sk-container-id-3 div.sk-parallel-item {\n",
              "  display: flex;\n",
              "  flex-direction: column;\n",
              "}\n",
              "\n",
              "#sk-container-id-3 div.sk-parallel-item:first-child::after {\n",
              "  align-self: flex-end;\n",
              "  width: 50%;\n",
              "}\n",
              "\n",
              "#sk-container-id-3 div.sk-parallel-item:last-child::after {\n",
              "  align-self: flex-start;\n",
              "  width: 50%;\n",
              "}\n",
              "\n",
              "#sk-container-id-3 div.sk-parallel-item:only-child::after {\n",
              "  width: 0;\n",
              "}\n",
              "\n",
              "/* Serial-specific style estimator block */\n",
              "\n",
              "#sk-container-id-3 div.sk-serial {\n",
              "  display: flex;\n",
              "  flex-direction: column;\n",
              "  align-items: center;\n",
              "  background-color: var(--sklearn-color-background);\n",
              "  padding-right: 1em;\n",
              "  padding-left: 1em;\n",
              "}\n",
              "\n",
              "\n",
              "/* Toggleable style: style used for estimator/Pipeline/ColumnTransformer box that is\n",
              "clickable and can be expanded/collapsed.\n",
              "- Pipeline and ColumnTransformer use this feature and define the default style\n",
              "- Estimators will overwrite some part of the style using the `sk-estimator` class\n",
              "*/\n",
              "\n",
              "/* Pipeline and ColumnTransformer style (default) */\n",
              "\n",
              "#sk-container-id-3 div.sk-toggleable {\n",
              "  /* Default theme specific background. It is overwritten whether we have a\n",
              "  specific estimator or a Pipeline/ColumnTransformer */\n",
              "  background-color: var(--sklearn-color-background);\n",
              "}\n",
              "\n",
              "/* Toggleable label */\n",
              "#sk-container-id-3 label.sk-toggleable__label {\n",
              "  cursor: pointer;\n",
              "  display: block;\n",
              "  width: 100%;\n",
              "  margin-bottom: 0;\n",
              "  padding: 0.5em;\n",
              "  box-sizing: border-box;\n",
              "  text-align: center;\n",
              "}\n",
              "\n",
              "#sk-container-id-3 label.sk-toggleable__label-arrow:before {\n",
              "  /* Arrow on the left of the label */\n",
              "  content: \"▸\";\n",
              "  float: left;\n",
              "  margin-right: 0.25em;\n",
              "  color: var(--sklearn-color-icon);\n",
              "}\n",
              "\n",
              "#sk-container-id-3 label.sk-toggleable__label-arrow:hover:before {\n",
              "  color: var(--sklearn-color-text);\n",
              "}\n",
              "\n",
              "/* Toggleable content - dropdown */\n",
              "\n",
              "#sk-container-id-3 div.sk-toggleable__content {\n",
              "  max-height: 0;\n",
              "  max-width: 0;\n",
              "  overflow: hidden;\n",
              "  text-align: left;\n",
              "  /* unfitted */\n",
              "  background-color: var(--sklearn-color-unfitted-level-0);\n",
              "}\n",
              "\n",
              "#sk-container-id-3 div.sk-toggleable__content.fitted {\n",
              "  /* fitted */\n",
              "  background-color: var(--sklearn-color-fitted-level-0);\n",
              "}\n",
              "\n",
              "#sk-container-id-3 div.sk-toggleable__content pre {\n",
              "  margin: 0.2em;\n",
              "  border-radius: 0.25em;\n",
              "  color: var(--sklearn-color-text);\n",
              "  /* unfitted */\n",
              "  background-color: var(--sklearn-color-unfitted-level-0);\n",
              "}\n",
              "\n",
              "#sk-container-id-3 div.sk-toggleable__content.fitted pre {\n",
              "  /* unfitted */\n",
              "  background-color: var(--sklearn-color-fitted-level-0);\n",
              "}\n",
              "\n",
              "#sk-container-id-3 input.sk-toggleable__control:checked~div.sk-toggleable__content {\n",
              "  /* Expand drop-down */\n",
              "  max-height: 200px;\n",
              "  max-width: 100%;\n",
              "  overflow: auto;\n",
              "}\n",
              "\n",
              "#sk-container-id-3 input.sk-toggleable__control:checked~label.sk-toggleable__label-arrow:before {\n",
              "  content: \"▾\";\n",
              "}\n",
              "\n",
              "/* Pipeline/ColumnTransformer-specific style */\n",
              "\n",
              "#sk-container-id-3 div.sk-label input.sk-toggleable__control:checked~label.sk-toggleable__label {\n",
              "  color: var(--sklearn-color-text);\n",
              "  background-color: var(--sklearn-color-unfitted-level-2);\n",
              "}\n",
              "\n",
              "#sk-container-id-3 div.sk-label.fitted input.sk-toggleable__control:checked~label.sk-toggleable__label {\n",
              "  background-color: var(--sklearn-color-fitted-level-2);\n",
              "}\n",
              "\n",
              "/* Estimator-specific style */\n",
              "\n",
              "/* Colorize estimator box */\n",
              "#sk-container-id-3 div.sk-estimator input.sk-toggleable__control:checked~label.sk-toggleable__label {\n",
              "  /* unfitted */\n",
              "  background-color: var(--sklearn-color-unfitted-level-2);\n",
              "}\n",
              "\n",
              "#sk-container-id-3 div.sk-estimator.fitted input.sk-toggleable__control:checked~label.sk-toggleable__label {\n",
              "  /* fitted */\n",
              "  background-color: var(--sklearn-color-fitted-level-2);\n",
              "}\n",
              "\n",
              "#sk-container-id-3 div.sk-label label.sk-toggleable__label,\n",
              "#sk-container-id-3 div.sk-label label {\n",
              "  /* The background is the default theme color */\n",
              "  color: var(--sklearn-color-text-on-default-background);\n",
              "}\n",
              "\n",
              "/* On hover, darken the color of the background */\n",
              "#sk-container-id-3 div.sk-label:hover label.sk-toggleable__label {\n",
              "  color: var(--sklearn-color-text);\n",
              "  background-color: var(--sklearn-color-unfitted-level-2);\n",
              "}\n",
              "\n",
              "/* Label box, darken color on hover, fitted */\n",
              "#sk-container-id-3 div.sk-label.fitted:hover label.sk-toggleable__label.fitted {\n",
              "  color: var(--sklearn-color-text);\n",
              "  background-color: var(--sklearn-color-fitted-level-2);\n",
              "}\n",
              "\n",
              "/* Estimator label */\n",
              "\n",
              "#sk-container-id-3 div.sk-label label {\n",
              "  font-family: monospace;\n",
              "  font-weight: bold;\n",
              "  display: inline-block;\n",
              "  line-height: 1.2em;\n",
              "}\n",
              "\n",
              "#sk-container-id-3 div.sk-label-container {\n",
              "  text-align: center;\n",
              "}\n",
              "\n",
              "/* Estimator-specific */\n",
              "#sk-container-id-3 div.sk-estimator {\n",
              "  font-family: monospace;\n",
              "  border: 1px dotted var(--sklearn-color-border-box);\n",
              "  border-radius: 0.25em;\n",
              "  box-sizing: border-box;\n",
              "  margin-bottom: 0.5em;\n",
              "  /* unfitted */\n",
              "  background-color: var(--sklearn-color-unfitted-level-0);\n",
              "}\n",
              "\n",
              "#sk-container-id-3 div.sk-estimator.fitted {\n",
              "  /* fitted */\n",
              "  background-color: var(--sklearn-color-fitted-level-0);\n",
              "}\n",
              "\n",
              "/* on hover */\n",
              "#sk-container-id-3 div.sk-estimator:hover {\n",
              "  /* unfitted */\n",
              "  background-color: var(--sklearn-color-unfitted-level-2);\n",
              "}\n",
              "\n",
              "#sk-container-id-3 div.sk-estimator.fitted:hover {\n",
              "  /* fitted */\n",
              "  background-color: var(--sklearn-color-fitted-level-2);\n",
              "}\n",
              "\n",
              "/* Specification for estimator info (e.g. \"i\" and \"?\") */\n",
              "\n",
              "/* Common style for \"i\" and \"?\" */\n",
              "\n",
              ".sk-estimator-doc-link,\n",
              "a:link.sk-estimator-doc-link,\n",
              "a:visited.sk-estimator-doc-link {\n",
              "  float: right;\n",
              "  font-size: smaller;\n",
              "  line-height: 1em;\n",
              "  font-family: monospace;\n",
              "  background-color: var(--sklearn-color-background);\n",
              "  border-radius: 1em;\n",
              "  height: 1em;\n",
              "  width: 1em;\n",
              "  text-decoration: none !important;\n",
              "  margin-left: 1ex;\n",
              "  /* unfitted */\n",
              "  border: var(--sklearn-color-unfitted-level-1) 1pt solid;\n",
              "  color: var(--sklearn-color-unfitted-level-1);\n",
              "}\n",
              "\n",
              ".sk-estimator-doc-link.fitted,\n",
              "a:link.sk-estimator-doc-link.fitted,\n",
              "a:visited.sk-estimator-doc-link.fitted {\n",
              "  /* fitted */\n",
              "  border: var(--sklearn-color-fitted-level-1) 1pt solid;\n",
              "  color: var(--sklearn-color-fitted-level-1);\n",
              "}\n",
              "\n",
              "/* On hover */\n",
              "div.sk-estimator:hover .sk-estimator-doc-link:hover,\n",
              ".sk-estimator-doc-link:hover,\n",
              "div.sk-label-container:hover .sk-estimator-doc-link:hover,\n",
              ".sk-estimator-doc-link:hover {\n",
              "  /* unfitted */\n",
              "  background-color: var(--sklearn-color-unfitted-level-3);\n",
              "  color: var(--sklearn-color-background);\n",
              "  text-decoration: none;\n",
              "}\n",
              "\n",
              "div.sk-estimator.fitted:hover .sk-estimator-doc-link.fitted:hover,\n",
              ".sk-estimator-doc-link.fitted:hover,\n",
              "div.sk-label-container:hover .sk-estimator-doc-link.fitted:hover,\n",
              ".sk-estimator-doc-link.fitted:hover {\n",
              "  /* fitted */\n",
              "  background-color: var(--sklearn-color-fitted-level-3);\n",
              "  color: var(--sklearn-color-background);\n",
              "  text-decoration: none;\n",
              "}\n",
              "\n",
              "/* Span, style for the box shown on hovering the info icon */\n",
              ".sk-estimator-doc-link span {\n",
              "  display: none;\n",
              "  z-index: 9999;\n",
              "  position: relative;\n",
              "  font-weight: normal;\n",
              "  right: .2ex;\n",
              "  padding: .5ex;\n",
              "  margin: .5ex;\n",
              "  width: min-content;\n",
              "  min-width: 20ex;\n",
              "  max-width: 50ex;\n",
              "  color: var(--sklearn-color-text);\n",
              "  box-shadow: 2pt 2pt 4pt #999;\n",
              "  /* unfitted */\n",
              "  background: var(--sklearn-color-unfitted-level-0);\n",
              "  border: .5pt solid var(--sklearn-color-unfitted-level-3);\n",
              "}\n",
              "\n",
              ".sk-estimator-doc-link.fitted span {\n",
              "  /* fitted */\n",
              "  background: var(--sklearn-color-fitted-level-0);\n",
              "  border: var(--sklearn-color-fitted-level-3);\n",
              "}\n",
              "\n",
              ".sk-estimator-doc-link:hover span {\n",
              "  display: block;\n",
              "}\n",
              "\n",
              "/* \"?\"-specific style due to the `<a>` HTML tag */\n",
              "\n",
              "#sk-container-id-3 a.estimator_doc_link {\n",
              "  float: right;\n",
              "  font-size: 1rem;\n",
              "  line-height: 1em;\n",
              "  font-family: monospace;\n",
              "  background-color: var(--sklearn-color-background);\n",
              "  border-radius: 1rem;\n",
              "  height: 1rem;\n",
              "  width: 1rem;\n",
              "  text-decoration: none;\n",
              "  /* unfitted */\n",
              "  color: var(--sklearn-color-unfitted-level-1);\n",
              "  border: var(--sklearn-color-unfitted-level-1) 1pt solid;\n",
              "}\n",
              "\n",
              "#sk-container-id-3 a.estimator_doc_link.fitted {\n",
              "  /* fitted */\n",
              "  border: var(--sklearn-color-fitted-level-1) 1pt solid;\n",
              "  color: var(--sklearn-color-fitted-level-1);\n",
              "}\n",
              "\n",
              "/* On hover */\n",
              "#sk-container-id-3 a.estimator_doc_link:hover {\n",
              "  /* unfitted */\n",
              "  background-color: var(--sklearn-color-unfitted-level-3);\n",
              "  color: var(--sklearn-color-background);\n",
              "  text-decoration: none;\n",
              "}\n",
              "\n",
              "#sk-container-id-3 a.estimator_doc_link.fitted:hover {\n",
              "  /* fitted */\n",
              "  background-color: var(--sklearn-color-fitted-level-3);\n",
              "}\n",
              "</style><div id=\"sk-container-id-3\" class=\"sk-top-container\"><div class=\"sk-text-repr-fallback\"><pre>GridSearchCV(cv=KFold(n_splits=3, random_state=72018, shuffle=True),\n",
              "             estimator=Pipeline(steps=[(&#x27;scaler&#x27;, StandardScaler()),\n",
              "                                       (&#x27;polynomial_features&#x27;,\n",
              "                                        PolynomialFeatures()),\n",
              "                                       (&#x27;ridge_regression&#x27;, Ridge())]),\n",
              "             param_grid={&#x27;polynomial_features__degree&#x27;: [1, 2, 3],\n",
              "                         &#x27;ridge_regression__alpha&#x27;: array([ 4.        ,  4.3535936 ,  4.73844431,  5.15731521,  5.61321363,\n",
              "        6.10941274,  6.64947505,  7.23727802,  7.87704182,  8.57335972,\n",
              "        9.331231  , 10.1560969 , 11.05387963, 12.03102491, 13.09454827,\n",
              "       14.25208539, 15.51194695, 16.88317825, 18.37562421, 20.        ])})</pre><b>In a Jupyter environment, please rerun this cell to show the HTML representation or trust the notebook. <br />On GitHub, the HTML representation is unable to render, please try loading this page with nbviewer.org.</b></div><div class=\"sk-container\" hidden><div class=\"sk-item sk-dashed-wrapped\"><div class=\"sk-label-container\"><div class=\"sk-label fitted sk-toggleable\"><input class=\"sk-toggleable__control sk-hidden--visually\" id=\"sk-estimator-id-8\" type=\"checkbox\" ><label for=\"sk-estimator-id-8\" class=\"sk-toggleable__label fitted sk-toggleable__label-arrow fitted\">&nbsp;&nbsp;GridSearchCV<a class=\"sk-estimator-doc-link fitted\" rel=\"noreferrer\" target=\"_blank\" href=\"https://scikit-learn.org/1.5/modules/generated/sklearn.model_selection.GridSearchCV.html\">?<span>Documentation for GridSearchCV</span></a><span class=\"sk-estimator-doc-link fitted\">i<span>Fitted</span></span></label><div class=\"sk-toggleable__content fitted\"><pre>GridSearchCV(cv=KFold(n_splits=3, random_state=72018, shuffle=True),\n",
              "             estimator=Pipeline(steps=[(&#x27;scaler&#x27;, StandardScaler()),\n",
              "                                       (&#x27;polynomial_features&#x27;,\n",
              "                                        PolynomialFeatures()),\n",
              "                                       (&#x27;ridge_regression&#x27;, Ridge())]),\n",
              "             param_grid={&#x27;polynomial_features__degree&#x27;: [1, 2, 3],\n",
              "                         &#x27;ridge_regression__alpha&#x27;: array([ 4.        ,  4.3535936 ,  4.73844431,  5.15731521,  5.61321363,\n",
              "        6.10941274,  6.64947505,  7.23727802,  7.87704182,  8.57335972,\n",
              "        9.331231  , 10.1560969 , 11.05387963, 12.03102491, 13.09454827,\n",
              "       14.25208539, 15.51194695, 16.88317825, 18.37562421, 20.        ])})</pre></div> </div></div><div class=\"sk-parallel\"><div class=\"sk-parallel-item\"><div class=\"sk-item\"><div class=\"sk-label-container\"><div class=\"sk-label fitted sk-toggleable\"><input class=\"sk-toggleable__control sk-hidden--visually\" id=\"sk-estimator-id-9\" type=\"checkbox\" ><label for=\"sk-estimator-id-9\" class=\"sk-toggleable__label fitted sk-toggleable__label-arrow fitted\">best_estimator_: Pipeline</label><div class=\"sk-toggleable__content fitted\"><pre>Pipeline(steps=[(&#x27;scaler&#x27;, StandardScaler()),\n",
              "                (&#x27;polynomial_features&#x27;, PolynomialFeatures()),\n",
              "                (&#x27;ridge_regression&#x27;,\n",
              "                 Ridge(alpha=np.float64(15.511946948525646)))])</pre></div> </div></div><div class=\"sk-serial\"><div class=\"sk-item\"><div class=\"sk-serial\"><div class=\"sk-item\"><div class=\"sk-estimator fitted sk-toggleable\"><input class=\"sk-toggleable__control sk-hidden--visually\" id=\"sk-estimator-id-10\" type=\"checkbox\" ><label for=\"sk-estimator-id-10\" class=\"sk-toggleable__label fitted sk-toggleable__label-arrow fitted\">&nbsp;StandardScaler<a class=\"sk-estimator-doc-link fitted\" rel=\"noreferrer\" target=\"_blank\" href=\"https://scikit-learn.org/1.5/modules/generated/sklearn.preprocessing.StandardScaler.html\">?<span>Documentation for StandardScaler</span></a></label><div class=\"sk-toggleable__content fitted\"><pre>StandardScaler()</pre></div> </div></div><div class=\"sk-item\"><div class=\"sk-estimator fitted sk-toggleable\"><input class=\"sk-toggleable__control sk-hidden--visually\" id=\"sk-estimator-id-11\" type=\"checkbox\" ><label for=\"sk-estimator-id-11\" class=\"sk-toggleable__label fitted sk-toggleable__label-arrow fitted\">&nbsp;PolynomialFeatures<a class=\"sk-estimator-doc-link fitted\" rel=\"noreferrer\" target=\"_blank\" href=\"https://scikit-learn.org/1.5/modules/generated/sklearn.preprocessing.PolynomialFeatures.html\">?<span>Documentation for PolynomialFeatures</span></a></label><div class=\"sk-toggleable__content fitted\"><pre>PolynomialFeatures()</pre></div> </div></div><div class=\"sk-item\"><div class=\"sk-estimator fitted sk-toggleable\"><input class=\"sk-toggleable__control sk-hidden--visually\" id=\"sk-estimator-id-12\" type=\"checkbox\" ><label for=\"sk-estimator-id-12\" class=\"sk-toggleable__label fitted sk-toggleable__label-arrow fitted\">&nbsp;Ridge<a class=\"sk-estimator-doc-link fitted\" rel=\"noreferrer\" target=\"_blank\" href=\"https://scikit-learn.org/1.5/modules/generated/sklearn.linear_model.Ridge.html\">?<span>Documentation for Ridge</span></a></label><div class=\"sk-toggleable__content fitted\"><pre>Ridge(alpha=np.float64(15.511946948525646))</pre></div> </div></div></div></div></div></div></div></div></div></div></div>"
            ],
            "text/plain": [
              "GridSearchCV(cv=KFold(n_splits=3, random_state=72018, shuffle=True),\n",
              "             estimator=Pipeline(steps=[('scaler', StandardScaler()),\n",
              "                                       ('polynomial_features',\n",
              "                                        PolynomialFeatures()),\n",
              "                                       ('ridge_regression', Ridge())]),\n",
              "             param_grid={'polynomial_features__degree': [1, 2, 3],\n",
              "                         'ridge_regression__alpha': array([ 4.        ,  4.3535936 ,  4.73844431,  5.15731521,  5.61321363,\n",
              "        6.10941274,  6.64947505,  7.23727802,  7.87704182,  8.57335972,\n",
              "        9.331231  , 10.1560969 , 11.05387963, 12.03102491, 13.09454827,\n",
              "       14.25208539, 15.51194695, 16.88317825, 18.37562421, 20.        ])})"
            ]
          },
          "execution_count": 46,
          "metadata": {},
          "output_type": "execute_result"
        }
      ],
      "source": [
        "grid.fit(X, y)"
      ]
    },
    {
      "cell_type": "code",
      "execution_count": 47,
      "metadata": {},
      "outputs": [
        {
          "data": {
            "text/plain": [
              "(np.float64(0.8504992740007816),\n",
              " {'polynomial_features__degree': 2,\n",
              "  'ridge_regression__alpha': np.float64(15.511946948525646)})"
            ]
          },
          "execution_count": 47,
          "metadata": {},
          "output_type": "execute_result"
        }
      ],
      "source": [
        "grid.best_score_, grid.best_params_"
      ]
    },
    {
      "cell_type": "code",
      "execution_count": 48,
      "metadata": {},
      "outputs": [],
      "source": [
        "y_predict = grid.predict(X)"
      ]
    },
    {
      "cell_type": "code",
      "execution_count": 49,
      "metadata": {},
      "outputs": [
        {
          "data": {
            "text/plain": [
              "0.9146985287463713"
            ]
          },
          "execution_count": 49,
          "metadata": {},
          "output_type": "execute_result"
        }
      ],
      "source": [
        "# This includes both in-sample and out-of-sample\n",
        "r2_score(y, y_predict)"
      ]
    },
    {
      "cell_type": "code",
      "execution_count": 50,
      "metadata": {},
      "outputs": [
        {
          "data": {
            "text/plain": [
              "array([ 0.00000000e+00, -1.28829772e-01, -5.05856284e-03,  1.62658971e-02,\n",
              "        1.00085587e-01, -9.67012834e-01,  3.25919745e+00, -9.57354081e-01,\n",
              "       -1.94774304e+00,  8.47932375e-01, -1.00903101e+00, -7.09489284e-01,\n",
              "        5.48320825e-01, -3.02796163e+00,  7.69588769e-02,  7.24274286e-02,\n",
              "        6.75359501e-02,  1.70458885e+00, -4.76779943e-01,  5.72065384e-01,\n",
              "        1.29769211e-01,  2.25908428e-01, -7.39176477e-01,  1.64401016e-01,\n",
              "       -7.79048916e-02, -8.46238751e-02,  4.98683957e-01,  2.15472338e-01,\n",
              "       -1.47172451e-01,  1.44110784e-01,  1.95181246e-01,  5.12046833e-02,\n",
              "       -1.10854296e-01, -2.73868352e-01, -1.31082729e-01,  7.19564832e-01,\n",
              "        5.48148586e-02,  8.81408420e-02, -2.65489851e-01,  5.80545185e-01,\n",
              "        1.07454993e-01,  9.49069101e-01,  5.68679067e-01,  5.32690017e-01,\n",
              "        6.98752649e-01, -5.91389648e-02,  7.43093700e-02, -4.26375257e-01,\n",
              "        2.35823244e-01, -6.82554161e-01,  3.39870567e-01, -9.60949439e-01,\n",
              "       -8.12827100e-01,  2.81875086e-01,  5.05015171e-02,  9.09596403e-02,\n",
              "        6.27478242e-01, -1.38350959e-01, -1.05697593e-01, -3.81805825e-01,\n",
              "       -4.48034446e-01, -4.51572263e-01, -4.89807062e-01,  7.46018959e-01,\n",
              "       -7.98434734e-01,  7.42438633e-02, -5.71696288e-01, -4.96174174e-02,\n",
              "        5.31715001e-01,  2.26611448e-01, -7.06049593e-01,  5.57918194e-02,\n",
              "       -7.86121183e-01, -9.09468994e-01, -1.02912278e+00, -1.58177551e-01,\n",
              "       -7.74956649e-01,  1.42550640e-01,  7.52412040e-02,  1.07082529e+00,\n",
              "        5.04449012e-02, -7.06160250e-02, -9.56064259e-01, -1.12279340e+00,\n",
              "        1.00934955e+00, -6.00719736e-01, -4.14052557e-01, -1.37258722e-01,\n",
              "       -2.66892679e-01,  8.21265588e-01, -8.52392067e-01,  8.75069121e-01,\n",
              "        3.67697485e-01, -1.12497890e-01, -1.11433587e+00,  8.14011054e-03,\n",
              "        1.28974396e+00, -3.62737520e-01, -1.08086194e+00, -1.18753580e-01,\n",
              "        8.42068993e-02,  1.09877090e-04, -3.62785045e-01, -4.06308662e-01,\n",
              "        8.08148961e-01])"
            ]
          },
          "execution_count": 50,
          "metadata": {},
          "output_type": "execute_result"
        }
      ],
      "source": [
        "# Notice that \"grid\" is a fit object!\n",
        "# We can use grid.predict(X_test) to get brand new predictions!\n",
        "grid.best_estimator_.named_steps['ridge_regression'].coef_"
      ]
    },
    {
      "cell_type": "code",
      "execution_count": 51,
      "metadata": {},
      "outputs": [
        {
          "data": {
            "text/plain": [
              "{'mean_fit_time': array([0.00818149, 0.00599774, 0.00714095, 0.00490864, 0.00684659,\n",
              "        0.00673302, 0.00183026, 0.00224217, 0.00450667, 0.00947213,\n",
              "        0.00361609, 0.00629234, 0.00390124, 0.00157849, 0.00414371,\n",
              "        0.00388265, 0.00878088, 0.0053285 , 0.02474697, 0.00167163,\n",
              "        0.01260344, 0.00400448, 0.01128801, 0.02154215, 0.01696841,\n",
              "        0.01692581, 0.00886567, 0.00885661, 0.00558289, 0.00239801,\n",
              "        0.00097799, 0.00764823, 0.00163126, 0.00734091, 0.00704821,\n",
              "        0.00173513, 0.0063111 , 0.00928275, 0.00554371, 0.00349283,\n",
              "        0.01708118, 0.01699909, 0.01779731, 0.07660468, 0.01562365,\n",
              "        0.01698526, 0.01565957, 0.01604152, 0.00698392, 0.01526078,\n",
              "        0.01582082, 0.01749961, 0.01531466, 0.01796603, 0.01591563,\n",
              "        0.01490068, 0.06934953, 0.00933417, 0.01492564, 0.01105038]),\n",
              " 'std_fit_time': array([0.00256271, 0.00140381, 0.00762997, 0.00069163, 0.00578911,\n",
              "        0.00749599, 0.00258838, 0.0020794 , 0.00637339, 0.00679625,\n",
              "        0.0005592 , 0.00688107, 0.00126154, 0.00223232, 0.0001841 ,\n",
              "        0.00346955, 0.00738684, 0.00156904, 0.0193734 , 0.00236404,\n",
              "        0.00903654, 0.00566319, 0.00798331, 0.01103536, 0.00022036,\n",
              "        0.01738531, 0.00698664, 0.00715248, 0.00490606, 0.00170139,\n",
              "        0.00138309, 0.00743984, 0.00230695, 0.00738634, 0.00536069,\n",
              "        0.00245385, 0.00270938, 0.00666683, 0.00783999, 0.00270666,\n",
              "        0.00021886, 0.00164373, 0.00239157, 0.07973604, 0.00119423,\n",
              "        0.00251147, 0.0036198 , 0.00095433, 0.00752325, 0.0024032 ,\n",
              "        0.00493489, 0.0049261 , 0.00237055, 0.00135521, 0.00447116,\n",
              "        0.00155076, 0.0819405 , 0.00099742, 0.00401026, 0.00782341]),\n",
              " 'mean_score_time': array([4.28311030e-03, 2.34087308e-03, 6.68525696e-04, 2.67521540e-03,\n",
              "        8.59340032e-04, 1.33832296e-03, 4.90697225e-03, 4.00376320e-03,\n",
              "        7.22169876e-04, 1.26934052e-03, 6.68843587e-04, 1.31678581e-03,\n",
              "        2.00668971e-03, 5.05701701e-03, 2.00446447e-03, 8.99712245e-04,\n",
              "        1.47509575e-03, 5.39255142e-03, 6.31904602e-03, 4.85793749e-03,\n",
              "        0.00000000e+00, 0.00000000e+00, 0.00000000e+00, 1.50227547e-03,\n",
              "        0.00000000e+00, 0.00000000e+00, 0.00000000e+00, 9.02334849e-04,\n",
              "        1.00183487e-03, 3.64414851e-03, 3.77217929e-03, 0.00000000e+00,\n",
              "        0.00000000e+00, 0.00000000e+00, 3.82184982e-03, 7.26373990e-03,\n",
              "        1.00231171e-03, 6.70194626e-04, 0.00000000e+00, 3.37306658e-03,\n",
              "        0.00000000e+00, 0.00000000e+00, 0.00000000e+00, 6.68605169e-04,\n",
              "        0.00000000e+00, 0.00000000e+00, 0.00000000e+00, 0.00000000e+00,\n",
              "        5.38245837e-03, 0.00000000e+00, 0.00000000e+00, 0.00000000e+00,\n",
              "        0.00000000e+00, 0.00000000e+00, 0.00000000e+00, 4.65710958e-04,\n",
              "        3.44101588e-03, 2.52803167e-03, 6.75519307e-06, 5.18774986e-03]),\n",
              " 'std_score_time': array([1.41867069e-03, 4.72831485e-04, 9.45438106e-04, 4.72831485e-04,\n",
              "        1.21529033e-03, 9.46337559e-04, 6.15240445e-03, 1.86718930e-03,\n",
              "        1.02130243e-03, 1.22360410e-03, 4.72943836e-04, 9.31509800e-04,\n",
              "        1.12391596e-07, 7.15170204e-03, 8.17898618e-04, 1.27238526e-03,\n",
              "        1.05635394e-03, 3.15044198e-03, 6.91659148e-03, 6.87016109e-03,\n",
              "        0.00000000e+00, 0.00000000e+00, 0.00000000e+00, 2.12453834e-03,\n",
              "        0.00000000e+00, 0.00000000e+00, 0.00000000e+00, 1.27609418e-03,\n",
              "        1.41680846e-03, 5.15360424e-03, 5.33466711e-03, 0.00000000e+00,\n",
              "        0.00000000e+00, 0.00000000e+00, 5.40491185e-03, 5.15973391e-03,\n",
              "        1.41748281e-03, 9.47798329e-04, 0.00000000e+00, 4.77023651e-03,\n",
              "        0.00000000e+00, 0.00000000e+00, 0.00000000e+00, 9.45550497e-04,\n",
              "        0.00000000e+00, 0.00000000e+00, 0.00000000e+00, 0.00000000e+00,\n",
              "        7.61194562e-03, 0.00000000e+00, 0.00000000e+00, 0.00000000e+00,\n",
              "        0.00000000e+00, 0.00000000e+00, 0.00000000e+00, 6.58614753e-04,\n",
              "        4.86633132e-03, 2.30534445e-03, 9.55328566e-06, 7.33658621e-03]),\n",
              " 'param_polynomial_features__degree': masked_array(data=[1, 1, 1, 1, 1, 1, 1, 1, 1, 1, 1, 1, 1, 1, 1, 1, 1, 1,\n",
              "                    1, 1, 2, 2, 2, 2, 2, 2, 2, 2, 2, 2, 2, 2, 2, 2, 2, 2,\n",
              "                    2, 2, 2, 2, 3, 3, 3, 3, 3, 3, 3, 3, 3, 3, 3, 3, 3, 3,\n",
              "                    3, 3, 3, 3, 3, 3],\n",
              "              mask=[False, False, False, False, False, False, False, False,\n",
              "                    False, False, False, False, False, False, False, False,\n",
              "                    False, False, False, False, False, False, False, False,\n",
              "                    False, False, False, False, False, False, False, False,\n",
              "                    False, False, False, False, False, False, False, False,\n",
              "                    False, False, False, False, False, False, False, False,\n",
              "                    False, False, False, False, False, False, False, False,\n",
              "                    False, False, False, False],\n",
              "        fill_value=999999),\n",
              " 'param_ridge_regression__alpha': masked_array(data=[4.0, 4.353593602921549, 4.7384443148498585,\n",
              "                    5.157315214232582, 5.6132136312332355,\n",
              "                    6.109412739192265, 6.649475054738714,\n",
              "                    7.237278015274221, 7.877041817465654, 8.573359716616,\n",
              "                    9.331231004451181, 10.156096902090468,\n",
              "                    11.053879625898109, 12.03102490669371,\n",
              "                    13.094548267592895, 14.252085392734966,\n",
              "                    15.511946948525646, 16.88317825098993,\n",
              "                    18.3756242076235, 20.0, 4.0, 4.353593602921549,\n",
              "                    4.7384443148498585, 5.157315214232582,\n",
              "                    5.6132136312332355, 6.109412739192265,\n",
              "                    6.649475054738714, 7.237278015274221,\n",
              "                    7.877041817465654, 8.573359716616, 9.331231004451181,\n",
              "                    10.156096902090468, 11.053879625898109,\n",
              "                    12.03102490669371, 13.094548267592895,\n",
              "                    14.252085392734966, 15.511946948525646,\n",
              "                    16.88317825098993, 18.3756242076235, 20.0, 4.0,\n",
              "                    4.353593602921549, 4.7384443148498585,\n",
              "                    5.157315214232582, 5.6132136312332355,\n",
              "                    6.109412739192265, 6.649475054738714,\n",
              "                    7.237278015274221, 7.877041817465654, 8.573359716616,\n",
              "                    9.331231004451181, 10.156096902090468,\n",
              "                    11.053879625898109, 12.03102490669371,\n",
              "                    13.094548267592895, 14.252085392734966,\n",
              "                    15.511946948525646, 16.88317825098993,\n",
              "                    18.3756242076235, 20.0],\n",
              "              mask=[False, False, False, False, False, False, False, False,\n",
              "                    False, False, False, False, False, False, False, False,\n",
              "                    False, False, False, False, False, False, False, False,\n",
              "                    False, False, False, False, False, False, False, False,\n",
              "                    False, False, False, False, False, False, False, False,\n",
              "                    False, False, False, False, False, False, False, False,\n",
              "                    False, False, False, False, False, False, False, False,\n",
              "                    False, False, False, False],\n",
              "        fill_value=1e+20),\n",
              " 'params': [{'polynomial_features__degree': 1,\n",
              "   'ridge_regression__alpha': np.float64(4.0)},\n",
              "  {'polynomial_features__degree': 1,\n",
              "   'ridge_regression__alpha': np.float64(4.353593602921549)},\n",
              "  {'polynomial_features__degree': 1,\n",
              "   'ridge_regression__alpha': np.float64(4.7384443148498585)},\n",
              "  {'polynomial_features__degree': 1,\n",
              "   'ridge_regression__alpha': np.float64(5.157315214232582)},\n",
              "  {'polynomial_features__degree': 1,\n",
              "   'ridge_regression__alpha': np.float64(5.6132136312332355)},\n",
              "  {'polynomial_features__degree': 1,\n",
              "   'ridge_regression__alpha': np.float64(6.109412739192265)},\n",
              "  {'polynomial_features__degree': 1,\n",
              "   'ridge_regression__alpha': np.float64(6.649475054738714)},\n",
              "  {'polynomial_features__degree': 1,\n",
              "   'ridge_regression__alpha': np.float64(7.237278015274221)},\n",
              "  {'polynomial_features__degree': 1,\n",
              "   'ridge_regression__alpha': np.float64(7.877041817465654)},\n",
              "  {'polynomial_features__degree': 1,\n",
              "   'ridge_regression__alpha': np.float64(8.573359716616)},\n",
              "  {'polynomial_features__degree': 1,\n",
              "   'ridge_regression__alpha': np.float64(9.331231004451181)},\n",
              "  {'polynomial_features__degree': 1,\n",
              "   'ridge_regression__alpha': np.float64(10.156096902090468)},\n",
              "  {'polynomial_features__degree': 1,\n",
              "   'ridge_regression__alpha': np.float64(11.053879625898109)},\n",
              "  {'polynomial_features__degree': 1,\n",
              "   'ridge_regression__alpha': np.float64(12.03102490669371)},\n",
              "  {'polynomial_features__degree': 1,\n",
              "   'ridge_regression__alpha': np.float64(13.094548267592895)},\n",
              "  {'polynomial_features__degree': 1,\n",
              "   'ridge_regression__alpha': np.float64(14.252085392734966)},\n",
              "  {'polynomial_features__degree': 1,\n",
              "   'ridge_regression__alpha': np.float64(15.511946948525646)},\n",
              "  {'polynomial_features__degree': 1,\n",
              "   'ridge_regression__alpha': np.float64(16.88317825098993)},\n",
              "  {'polynomial_features__degree': 1,\n",
              "   'ridge_regression__alpha': np.float64(18.3756242076235)},\n",
              "  {'polynomial_features__degree': 1,\n",
              "   'ridge_regression__alpha': np.float64(20.0)},\n",
              "  {'polynomial_features__degree': 2,\n",
              "   'ridge_regression__alpha': np.float64(4.0)},\n",
              "  {'polynomial_features__degree': 2,\n",
              "   'ridge_regression__alpha': np.float64(4.353593602921549)},\n",
              "  {'polynomial_features__degree': 2,\n",
              "   'ridge_regression__alpha': np.float64(4.7384443148498585)},\n",
              "  {'polynomial_features__degree': 2,\n",
              "   'ridge_regression__alpha': np.float64(5.157315214232582)},\n",
              "  {'polynomial_features__degree': 2,\n",
              "   'ridge_regression__alpha': np.float64(5.6132136312332355)},\n",
              "  {'polynomial_features__degree': 2,\n",
              "   'ridge_regression__alpha': np.float64(6.109412739192265)},\n",
              "  {'polynomial_features__degree': 2,\n",
              "   'ridge_regression__alpha': np.float64(6.649475054738714)},\n",
              "  {'polynomial_features__degree': 2,\n",
              "   'ridge_regression__alpha': np.float64(7.237278015274221)},\n",
              "  {'polynomial_features__degree': 2,\n",
              "   'ridge_regression__alpha': np.float64(7.877041817465654)},\n",
              "  {'polynomial_features__degree': 2,\n",
              "   'ridge_regression__alpha': np.float64(8.573359716616)},\n",
              "  {'polynomial_features__degree': 2,\n",
              "   'ridge_regression__alpha': np.float64(9.331231004451181)},\n",
              "  {'polynomial_features__degree': 2,\n",
              "   'ridge_regression__alpha': np.float64(10.156096902090468)},\n",
              "  {'polynomial_features__degree': 2,\n",
              "   'ridge_regression__alpha': np.float64(11.053879625898109)},\n",
              "  {'polynomial_features__degree': 2,\n",
              "   'ridge_regression__alpha': np.float64(12.03102490669371)},\n",
              "  {'polynomial_features__degree': 2,\n",
              "   'ridge_regression__alpha': np.float64(13.094548267592895)},\n",
              "  {'polynomial_features__degree': 2,\n",
              "   'ridge_regression__alpha': np.float64(14.252085392734966)},\n",
              "  {'polynomial_features__degree': 2,\n",
              "   'ridge_regression__alpha': np.float64(15.511946948525646)},\n",
              "  {'polynomial_features__degree': 2,\n",
              "   'ridge_regression__alpha': np.float64(16.88317825098993)},\n",
              "  {'polynomial_features__degree': 2,\n",
              "   'ridge_regression__alpha': np.float64(18.3756242076235)},\n",
              "  {'polynomial_features__degree': 2,\n",
              "   'ridge_regression__alpha': np.float64(20.0)},\n",
              "  {'polynomial_features__degree': 3,\n",
              "   'ridge_regression__alpha': np.float64(4.0)},\n",
              "  {'polynomial_features__degree': 3,\n",
              "   'ridge_regression__alpha': np.float64(4.353593602921549)},\n",
              "  {'polynomial_features__degree': 3,\n",
              "   'ridge_regression__alpha': np.float64(4.7384443148498585)},\n",
              "  {'polynomial_features__degree': 3,\n",
              "   'ridge_regression__alpha': np.float64(5.157315214232582)},\n",
              "  {'polynomial_features__degree': 3,\n",
              "   'ridge_regression__alpha': np.float64(5.6132136312332355)},\n",
              "  {'polynomial_features__degree': 3,\n",
              "   'ridge_regression__alpha': np.float64(6.109412739192265)},\n",
              "  {'polynomial_features__degree': 3,\n",
              "   'ridge_regression__alpha': np.float64(6.649475054738714)},\n",
              "  {'polynomial_features__degree': 3,\n",
              "   'ridge_regression__alpha': np.float64(7.237278015274221)},\n",
              "  {'polynomial_features__degree': 3,\n",
              "   'ridge_regression__alpha': np.float64(7.877041817465654)},\n",
              "  {'polynomial_features__degree': 3,\n",
              "   'ridge_regression__alpha': np.float64(8.573359716616)},\n",
              "  {'polynomial_features__degree': 3,\n",
              "   'ridge_regression__alpha': np.float64(9.331231004451181)},\n",
              "  {'polynomial_features__degree': 3,\n",
              "   'ridge_regression__alpha': np.float64(10.156096902090468)},\n",
              "  {'polynomial_features__degree': 3,\n",
              "   'ridge_regression__alpha': np.float64(11.053879625898109)},\n",
              "  {'polynomial_features__degree': 3,\n",
              "   'ridge_regression__alpha': np.float64(12.03102490669371)},\n",
              "  {'polynomial_features__degree': 3,\n",
              "   'ridge_regression__alpha': np.float64(13.094548267592895)},\n",
              "  {'polynomial_features__degree': 3,\n",
              "   'ridge_regression__alpha': np.float64(14.252085392734966)},\n",
              "  {'polynomial_features__degree': 3,\n",
              "   'ridge_regression__alpha': np.float64(15.511946948525646)},\n",
              "  {'polynomial_features__degree': 3,\n",
              "   'ridge_regression__alpha': np.float64(16.88317825098993)},\n",
              "  {'polynomial_features__degree': 3,\n",
              "   'ridge_regression__alpha': np.float64(18.3756242076235)},\n",
              "  {'polynomial_features__degree': 3,\n",
              "   'ridge_regression__alpha': np.float64(20.0)}],\n",
              " 'split0_test_score': array([0.67211108, 0.67209819, 0.67208048, 0.67205716, 0.67202738,\n",
              "        0.6719902 , 0.6719446 , 0.67188948, 0.67182365, 0.67174585,\n",
              "        0.67165474, 0.67154889, 0.67142681, 0.67128692, 0.67112756,\n",
              "        0.67094698, 0.67074336, 0.67051473, 0.67025905, 0.66997409,\n",
              "        0.84255141, 0.8420115 , 0.84146799, 0.84091912, 0.84036285,\n",
              "        0.83979691, 0.83921878, 0.83862579, 0.83801512, 0.83738381,\n",
              "        0.83672883, 0.83604706, 0.83533532, 0.83459041, 0.83380909,\n",
              "        0.83298809, 0.83212415, 0.831214  , 0.83025441, 0.82924215,\n",
              "        0.46032273, 0.46982089, 0.47905587, 0.48806322, 0.49687362,\n",
              "        0.50551302, 0.51400268, 0.52235936, 0.53059548, 0.53871941,\n",
              "        0.54673575, 0.55464572, 0.5624475 , 0.57013669, 0.5777067 ,\n",
              "        0.58514924, 0.59245469, 0.59961253, 0.60661174, 0.61344108]),\n",
              " 'split1_test_score': array([0.74823479, 0.74819055, 0.74813947, 0.74808061, 0.74801288,\n",
              "        0.74793512, 0.747846  , 0.74774408, 0.74762774, 0.74749524,\n",
              "        0.74734463, 0.74717382, 0.74698049, 0.74676215, 0.74651608,\n",
              "        0.74623933, 0.74592873, 0.74558082, 0.74519187, 0.74475787,\n",
              "        0.86557853, 0.86625787, 0.86686866, 0.86740954, 0.86787963,\n",
              "        0.86827854, 0.86860632, 0.86886337, 0.86905042, 0.8691684 ,\n",
              "        0.86921839, 0.86920155, 0.86911896, 0.8689716 , 0.86876022,\n",
              "        0.86848525, 0.86814671, 0.86774415, 0.86727656, 0.8667423 ,\n",
              "        0.62240449, 0.64001868, 0.65662821, 0.67225775, 0.68693442,\n",
              "        0.7006876 , 0.71354866, 0.72555069, 0.73672825, 0.74711705,\n",
              "        0.75675363, 0.76567507, 0.77391868, 0.7815217 , 0.78852106,\n",
              "        0.79495307, 0.8008532 , 0.80625591, 0.81119439, 0.81570048]),\n",
              " 'split2_test_score': array([0.70180089, 0.70208647, 0.70238591, 0.70269903, 0.7030255 ,\n",
              "        0.7033648 , 0.70371626, 0.70407902, 0.70445199, 0.70483385,\n",
              "        0.70522304, 0.70561774, 0.70601583, 0.70641491, 0.70681224,\n",
              "        0.70720474, 0.70758895, 0.70796101, 0.70831665, 0.7086511 ,\n",
              "        0.82439713, 0.8261814 , 0.82799794, 0.82983605, 0.83168477,\n",
              "        0.83353318, 0.83537055, 0.83718657, 0.83897151, 0.84071635,\n",
              "        0.8424129 , 0.84405383, 0.84563268, 0.84714388, 0.84858264,\n",
              "        0.84994485, 0.85122696, 0.8524258 , 0.85353839, 0.85456176,\n",
              "        0.19693116, 0.22914052, 0.26022455, 0.29017017, 0.3189734 ,\n",
              "        0.34663861, 0.37317752, 0.39860825, 0.42295432, 0.44624366,\n",
              "        0.46850763, 0.48978014, 0.51009675, 0.52949396, 0.54800851,\n",
              "        0.56567675, 0.58253423, 0.59861531, 0.61395284, 0.62857805]),\n",
              " 'mean_test_score': array([0.70738225, 0.7074584 , 0.70753529, 0.70761227, 0.70768859,\n",
              "        0.70776337, 0.70783562, 0.70790419, 0.70796779, 0.70802498,\n",
              "        0.70807414, 0.70811348, 0.70814104, 0.70815466, 0.70815196,\n",
              "        0.70813035, 0.70808701, 0.70801885, 0.70792252, 0.70779435,\n",
              "        0.84417569, 0.84481692, 0.84544486, 0.8460549 , 0.84664242,\n",
              "        0.84720287, 0.84773188, 0.84822524, 0.84867902, 0.84908952,\n",
              "        0.84945338, 0.84976748, 0.85002899, 0.8502353 , 0.85038398,\n",
              "        0.85047273, 0.85049927, 0.85046132, 0.85035645, 0.85018207,\n",
              "        0.42655279, 0.4463267 , 0.46530288, 0.48349704, 0.50092715,\n",
              "        0.51761308, 0.53357629, 0.54883943, 0.56342602, 0.57736004,\n",
              "        0.59066567, 0.60336698, 0.61548764, 0.62705079, 0.63807876,\n",
              "        0.64859302, 0.65861404, 0.66816125, 0.67725299, 0.68590654]),\n",
              " 'std_test_score': array([0.03132697, 0.03129595, 0.03126372, 0.03123028, 0.0311957 ,\n",
              "        0.03116   , 0.03112322, 0.03108541, 0.03104659, 0.03100677,\n",
              "        0.03096597, 0.03092414, 0.03088124, 0.03083718, 0.03079181,\n",
              "        0.03074494, 0.03069632, 0.03064563, 0.03059247, 0.03053636,\n",
              "        0.01685142, 0.01648097, 0.01611614, 0.01576333, 0.01542923,\n",
              "        0.01512054, 0.01484383, 0.01460518, 0.01441005, 0.01426295,\n",
              "        0.01416731, 0.01412538, 0.01413811, 0.01420526, 0.01432548,\n",
              "        0.01449646, 0.01471515, 0.01497792, 0.01528078, 0.01561947,\n",
              "        0.17533244, 0.16856097, 0.16212305, 0.15602001, 0.1502468 ,\n",
              "        0.14479291, 0.13964353, 0.13478065, 0.13018424, 0.12583328,\n",
              "        0.1217068 , 0.11778462, 0.11404807, 0.11048049, 0.10706746,\n",
              "        0.10379705, 0.10065978, 0.09764852, 0.09475828, 0.09198599]),\n",
              " 'rank_test_score': array([40, 39, 38, 37, 36, 35, 33, 32, 30, 28, 27, 25, 23, 21, 22, 24, 26,\n",
              "        29, 31, 34, 20, 19, 18, 17, 16, 15, 14, 13, 12, 11, 10,  9,  8,  6,\n",
              "         4,  2,  1,  3,  5,  7, 60, 59, 58, 57, 56, 55, 54, 53, 52, 51, 50,\n",
              "        49, 48, 47, 46, 45, 44, 43, 42, 41], dtype=int32)}"
            ]
          },
          "execution_count": 51,
          "metadata": {},
          "output_type": "execute_result"
        }
      ],
      "source": [
        "grid.cv_results_"
      ]
    },
    {
      "cell_type": "markdown",
      "metadata": {},
      "source": [
        "## Summary\n",
        "\n",
        "1. We can manually generate folds by using `KFolds`\n",
        "2. We can get a score using `cross_val_predict(X, y, cv=KFoldObject_or_integer)`. \n",
        "   This will produce the out-of-bag prediction for each row.\n",
        "3. When doing hyperparameter selection, we should be optimizing on out-of-bag scores. This means either using `cross_val_predict` in a loop, or ....\n",
        "4. .... use `GridSearchCV`. GridSearchCV takes a model (or pipeline) and a dictionary of parameters to scan over. It finds the hyperparameter set that has the best out-of-sample score on all the parameters, and calls that it's \"best estimator\". It then retrains on all data with the \"best\" hyper-parameters.\n",
        "\n",
        "### Extensions\n",
        "\n",
        "Here are some additional items to keep in mind:\n",
        "* There is a `RandomSearchCV` that tries random combination of model parameters. This can be helpful if you have a prohibitive number of combinations to test them all exhaustively.\n",
        "* KFolds will randomly select rows to be in the training and test folds. There are other methods (such as `StratifiedKFolds` and `GroupKFold`, which are useful when you need more control over how the data is split (e.g. to prevent data leakage). You can create these specialized objects and pass them to the `cv` argument of `GridSearchCV`.\n"
      ]
    },
    {
      "cell_type": "markdown",
      "metadata": {},
      "source": []
    }
  ],
  "metadata": {
    "kernelspec": {
      "display_name": "Python 3",
      "language": "python",
      "name": "python3"
    },
    "language_info": {
      "codemirror_mode": {
        "name": "ipython",
        "version": 3
      },
      "file_extension": ".py",
      "mimetype": "text/x-python",
      "name": "python",
      "nbconvert_exporter": "python",
      "pygments_lexer": "ipython3",
      "version": "3.12.4"
    }
  },
  "nbformat": 4,
  "nbformat_minor": 4
}
